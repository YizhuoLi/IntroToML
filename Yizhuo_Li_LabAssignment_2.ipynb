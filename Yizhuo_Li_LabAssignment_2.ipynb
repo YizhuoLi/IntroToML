{
 "cells": [
  {
   "cell_type": "markdown",
   "metadata": {},
   "source": [
    "# <center>Introduction to Machine Learning</center> #  \n",
    "## <center>Lab Assignment 2: Classical Classification Techniques</center> ##  \n",
    "#### <center>Yizhuo Li</center> ####  \n",
    "#### <center>2019/02/18</center> ####"
   ]
  },
  {
   "cell_type": "markdown",
   "metadata": {},
   "source": [
    "**Summary:** In class, we have discussed classification models that you can use with pre- defined features. In this assignment, you will demonstrate you understand how to apply, evaluate, and analyze these models. A successful submission of your project will consist of two contributions. First, it should include the source code of your implementation (i.e., portions indicated by “Code”): do not include a hyperlink to a website where your code is publicly available. Second, it should include a PDF document with all requested experimen- tal results and analysis (i.e., portions indicated by “Write-up”)."
   ]
  },
  {
   "cell_type": "markdown",
   "metadata": {},
   "source": [
    "### 1. Construct Datasets for Training and Evaluation ###"
   ]
  },
  {
   "cell_type": "markdown",
   "metadata": {},
   "source": [
    "(a) Load a real dataset of your choice that is designed for classification but was not\n",
    "used in class; e.g., from sklearn.datasets, Kaggle, or your own data. (Code)  \n",
    "(b) Create a 75/25 train/test split of the dataset. (Code)"
   ]
  },
  {
   "cell_type": "code",
   "execution_count": 1,
   "metadata": {},
   "outputs": [],
   "source": [
    "from sklearn.datasets import load_breast_cancer\n",
    "\n",
    "breast_cancer_data = load_breast_cancer()\n",
    "X = breast_cancer_data.data\n",
    "y = breast_cancer_data.target"
   ]
  },
  {
   "cell_type": "code",
   "execution_count": 2,
   "metadata": {},
   "outputs": [],
   "source": [
    "from sklearn.model_selection import train_test_split\n",
    "\n",
    "X_train, X_test, y_train, y_test = train_test_split(X, y, test_size=0.25, random_state=42)"
   ]
  },
  {
   "cell_type": "markdown",
   "metadata": {},
   "source": [
    "### 2. Optimize Hyperparameter(s) for Each Classification Model ###"
   ]
  },
  {
   "cell_type": "markdown",
   "metadata": {},
   "source": [
    "When evaluating each model in this problem, perform stratified 10-fold cross-validation on the training dataset and use the “accuracy” measure to assess performance.  \n",
    "\n",
    "(a) Decision tree: find the optimal hyperparameters for the split criterion (i.e., test “gini” and “entropy”) and tree depth (i.e., test at least 6 different values) when training a decision tree. Report the optimal hyperparameters found and how many hyperparameter combinations you tested in total. (Code and Write-up)  \n",
    "\n",
    "(b) K-Nearest Neighbors (K-NN): find the optimal hyperparameters for the distance metric (i.e., test “Euclidean” and “Manhattan”) and number of nearest neighbors (i.e., test at least 6 different values) when using k-Nearest Neighbors. Report the optimal hyperparameters found and how many hyperparameter combinations you tested in total. (Code and Write-up)  \n",
    "\n",
    "(c) Support Vector Machine (SVM): find the optimal hyperparameters for the poly- nomial degree, kernel bandwidth (i.e., gamma), and regularization parameter (i.e., C) when training a kernel SVM with a polynomial kernel. You must evaluate all possible combinations of at least 2 degree values (for the polynomial degree), at least 3 gamma values, and at least 3 C values. Report the optimal hyperparameters found and how many hyperparameter combinations you tested in total. (Code and Write-up)"
   ]
  },
  {
   "cell_type": "markdown",
   "metadata": {},
   "source": [
    "### Decision Tree ###"
   ]
  },
  {
   "cell_type": "code",
   "execution_count": 3,
   "metadata": {},
   "outputs": [],
   "source": [
    "from sklearn.tree import DecisionTreeClassifier\n",
    "\n",
    "def plotTreeAccuracy(criterion='gini'):\n",
    "    accuracy = []\n",
    "    bestAccuracy = 0\n",
    "    bestDepth = 0\n",
    "    depth_settings = range(1,15)\n",
    "    for depth in depth_settings:\n",
    "        # build the model\n",
    "        clf = DecisionTreeClassifier(criterion=criterion, max_depth=depth)\n",
    "        clf.fit(X_train, y_train)\n",
    "        # Record test set accuracy\n",
    "        curAccuracy = clf.score(X_test, y_test)\n",
    "        accuracy.append(curAccuracy)\n",
    "        if curAccuracy>bestAccuracy:\n",
    "            bestAccuracy=curAccuracy\n",
    "            bestDepth = depth\n",
    "    print('best Depth of ',criterion,' is ',bestDepth,' with the best Accuracy ', bestAccuracy)\n",
    "    plt.plot(depth_settings, accuracy, label= criterion+' accuracy')\n",
    "    plt.ylabel('Accuracy')\n",
    "    plt.xlabel('number of depth')\n",
    "    plt.legend()"
   ]
  },
  {
   "cell_type": "code",
   "execution_count": 4,
   "metadata": {},
   "outputs": [
    {
     "name": "stdout",
     "output_type": "stream",
     "text": [
      "best Depth of  gini  is  3  with the best Accuracy  0.951048951048951\n",
      "best Depth of  entropy  is  3  with the best Accuracy  0.958041958041958\n"
     ]
    },
    {
     "data": {
      "image/png": "[encoded data removed]",
      "text/plain": [
       "<Figure size 432x288 with 1 Axes>"
      ]
     },
     "metadata": {
      "needs_background": "light"
     },
     "output_type": "display_data"
    }
   ],
   "source": [
    "# Why every time I run this function, the result is unsame?\n",
    "import matplotlib.pyplot as plt\n",
    "%matplotlib inline\n",
    "\n",
    "plotTreeAccuracy()\n",
    "plotTreeAccuracy('entropy')"
   ]
  },
  {
   "cell_type": "markdown",
   "metadata": {},
   "source": [
    "Form the plot above, we could see that we try two different criterion and each criterion we try 14 different depth. So, in total, we try 28 different hyperparameter combinations.  \n",
    "The best hyperparameter combinations is when the criterion is entropy and when the depth is 3. So, we will use this hyperparameter combinations to do the cross-validation.  \n",
    "However, what's interesting is every time I run this block, the diagram is different. I am not sure what's going on here."
   ]
  },
  {
   "cell_type": "code",
   "execution_count": 5,
   "metadata": {},
   "outputs": [],
   "source": [
    "from sklearn.model_selection import cross_val_score\n",
    "from sklearn.model_selection import KFold\n",
    "\n",
    "def cross_val(model):\n",
    "    kflod = KFold(n_splits=10, shuffle=True, random_state=2)\n",
    "    fold_accuracies = cross_val_score(model, X_train, y_train, cv=kflod)\n",
    "    print('Cross validation score:\\n{}'.format(fold_accuracies))\n",
    "    print('Average cross-validation score: {:.2f}'.format(fold_accuracies.mean()))"
   ]
  },
  {
   "cell_type": "code",
   "execution_count": 6,
   "metadata": {},
   "outputs": [
    {
     "name": "stdout",
     "output_type": "stream",
     "text": [
      "Cross validation score:\n",
      "[0.97674419 0.97674419 0.93023256 0.90697674 0.93023256 0.90697674\n",
      " 1.         1.         0.95238095 0.92857143]\n",
      "Average cross-validation score: 0.95\n"
     ]
    }
   ],
   "source": [
    "clfTreeBest = DecisionTreeClassifier(criterion='entropy', max_depth=3)\n",
    "clfTreeBest.fit(X_train, y_train)\n",
    "\n",
    "cross_val(clfTreeBest)"
   ]
  },
  {
   "cell_type": "markdown",
   "metadata": {},
   "source": [
    "From the Cross validation score above, we could see that the distribution of the Cross validation score is relatively stable."
   ]
  },
  {
   "cell_type": "markdown",
   "metadata": {},
   "source": [
    "### K-Nearest Neighbors (K-NN) ###"
   ]
  },
  {
   "cell_type": "code",
   "execution_count": 7,
   "metadata": {},
   "outputs": [],
   "source": [
    "from sklearn.preprocessing import MinMaxScaler\n",
    "\n",
    "mms = MinMaxScaler()\n",
    "X_train_norm = mms.fit_transform(X_train)\n",
    "X_test_norm = mms.transform(X_test)"
   ]
  },
  {
   "cell_type": "code",
   "execution_count": 8,
   "metadata": {},
   "outputs": [],
   "source": [
    "from sklearn.neighbors import KNeighborsClassifier\n",
    "\n",
    "def plotNumNeighborsVsAccuracy(P_value=2, metric_value='minkowski'):\n",
    "    bestAccuracy = 0\n",
    "    bestK = 0\n",
    "    test_accuracy = []\n",
    "    neighbor_settings = range(1,11)\n",
    "    for curKvalue in neighbor_settings:\n",
    "        # build the model\n",
    "        clf = KNeighborsClassifier(n_neighbors=curKvalue, p=P_value, metric=metric_value)\n",
    "        clf.fit(X_train_norm, y_train)\n",
    "\n",
    "        # Record test set accuracy\n",
    "        curTestAccuracy = clf.score(X_test_norm, y_test)\n",
    "        test_accuracy.append(curTestAccuracy)\n",
    "        if curTestAccuracy>bestAccuracy:\n",
    "            bestAccuracy=curTestAccuracy\n",
    "            bestK = curKvalue\n",
    "    print('best K value of ',metric_value,' is ',bestK,' with the best Accuracy ', bestAccuracy)\n",
    "\n",
    "    plt.plot(neighbor_settings, test_accuracy, label=metric_value+' accuracy')\n",
    "    plt.ylabel('Accuracy')\n",
    "    plt.xlabel('number of neighbor')\n",
    "    plt.legend()"
   ]
  },
  {
   "cell_type": "code",
   "execution_count": 9,
   "metadata": {
    "scrolled": true
   },
   "outputs": [
    {
     "name": "stdout",
     "output_type": "stream",
     "text": [
      "best K value of  minkowski  is  3  with the best Accuracy  0.972027972027972\n",
      "best K value of  manhattan  is  3  with the best Accuracy  0.972027972027972\n"
     ]
    },
    {
     "data": {
      "image/png": "[encoded data removed]",
      "text/plain": [
       "<Figure size 432x288 with 1 Axes>"
      ]
     },
     "metadata": {
      "needs_background": "light"
     },
     "output_type": "display_data"
    }
   ],
   "source": [
    "plotNumNeighborsVsAccuracy()\n",
    "plotNumNeighborsVsAccuracy(1,'manhattan')"
   ]
  },
  {
   "cell_type": "markdown",
   "metadata": {},
   "source": [
    "From the diagram above, we test two different metric and each metric we test 10 different neighbors. So, in total, we try 20 different hyperparameter combinations. We can see that the manhattan's whold performance is better than minkowski. However, the best persormance of minkowski is same with manhattan.  \n",
    "The best hyperparameter combinations is when the metric is manhattan or minkowski and when the number of neighbor is 3,5,9 or 10. So, we will use one of them as the optimal hyperparameter combinations to do the cross-validation.  \n",
    "For this block, everytime I run it, the result is the same."
   ]
  },
  {
   "cell_type": "code",
   "execution_count": 10,
   "metadata": {
    "scrolled": true
   },
   "outputs": [
    {
     "name": "stdout",
     "output_type": "stream",
     "text": [
      "Cross validation score:\n",
      "[0.93023256 0.93023256 0.90697674 0.90697674 0.93023256 0.95348837\n",
      " 0.95238095 1.         0.95238095 0.88095238]\n",
      "Average cross-validation score: 0.93\n"
     ]
    }
   ],
   "source": [
    "clfKNN = KNeighborsClassifier(n_neighbors=5, p=1, metric='manhattan')\n",
    "clfKNN.fit(X_train_norm, y_train)\n",
    "\n",
    "cross_val(clfKNN)"
   ]
  },
  {
   "cell_type": "markdown",
   "metadata": {},
   "source": [
    "From the Cross validation score above, we could see that 1 in 10 times, the Cross validation score is less than 0.9. So, we can't guarantee that our split dataset is good for trainning."
   ]
  },
  {
   "cell_type": "markdown",
   "metadata": {},
   "source": [
    "### Support Vector Machine (SVM) ###"
   ]
  },
  {
   "cell_type": "code",
   "execution_count": 11,
   "metadata": {},
   "outputs": [],
   "source": [
    "from sklearn.preprocessing import StandardScaler\n",
    "# Transform scale of data\n",
    "ss= StandardScaler()\n",
    "X_train_scaled = ss.fit_transform(X_train)\n",
    "X_test_scaled = ss.transform(X_test)"
   ]
  },
  {
   "cell_type": "code",
   "execution_count": 12,
   "metadata": {},
   "outputs": [],
   "source": [
    "from sklearn.svm import SVC\n",
    "\n",
    "def bestSVMAccuracy():\n",
    "    bestAccuracy = 0\n",
    "    bestC = 0\n",
    "    bestDegree = 0\n",
    "    bestGamma = 0\n",
    "#     test_accuracy = []\n",
    "    C_settings = [0.0001, 0.001, 0.01, 0.1, 1, 10, 100]\n",
    "    degree_settings = range(1,5)\n",
    "    gamma_settings = [0.001, 0.01, 0.1, 1, 10, 100]\n",
    "    for degree in degree_settings:\n",
    "        for C in C_settings:\n",
    "            for gamma in gamma_settings:\n",
    "                # build the model\n",
    "                poly_kernal_svm_clf = SVC(C=C, kernel='poly', degree=degree, gamma=gamma)\n",
    "                poly_kernal_svm_clf.fit(X_train_scaled, y_train)\n",
    "                curTestAccuracy = poly_kernal_svm_clf.score(X_test_scaled, y_test)\n",
    "\n",
    "                if curTestAccuracy>bestAccuracy:\n",
    "                    bestAccuracy=curTestAccuracy\n",
    "                    bestC = C\n",
    "                    bestDegree = degree\n",
    "                    bestGamma = gamma\n",
    "    print('For our training model, the best C value is ',bestC,\n",
    "            '\\nthe best Degree is ',bestDegree,\n",
    "            '\\nthe best gamma is ', bestGamma,\n",
    "            '\\nthe best Accuracy ', bestAccuracy)"
   ]
  },
  {
   "cell_type": "code",
   "execution_count": 13,
   "metadata": {},
   "outputs": [
    {
     "name": "stdout",
     "output_type": "stream",
     "text": [
      "For our training model, the best C value is  0.0001 \n",
      "the best Degree is  1 \n",
      "the best gamma is  100 \n",
      "the best Accuracy  0.9790209790209791\n"
     ]
    }
   ],
   "source": [
    "bestSVMAccuracy()"
   ]
  },
  {
   "cell_type": "markdown",
   "metadata": {},
   "source": [
    "Cause this model have three different hyperparameters, so I didn't choose to draw a plot. From the result above, we could see clearly what's the best hyperparameter combination of our model. In the test, we try 7 different C value, 4 degree and 6 gamma. So, the total number of the different hyperparameter combination is 168."
   ]
  },
  {
   "cell_type": "code",
   "execution_count": 14,
   "metadata": {},
   "outputs": [
    {
     "name": "stdout",
     "output_type": "stream",
     "text": [
      "Cross validation score:\n",
      "[0.95348837 0.88372093 0.90697674 0.97674419 0.93023256 0.95348837\n",
      " 0.95238095 1.         0.92857143 0.92857143]\n",
      "Average cross-validation score: 0.94\n"
     ]
    }
   ],
   "source": [
    "poly_kernal_svm_clf = SVC(C=0.0001, kernel='poly', degree=1, gamma=100)\n",
    "poly_kernal_svm_clf.fit(X_train_scaled, y_train)\n",
    "\n",
    "cross_val(poly_kernal_svm_clf)"
   ]
  },
  {
   "cell_type": "markdown",
   "metadata": {},
   "source": [
    "From the Cross validation score above, we could see that same with the KNN that 1 in 10 times, the Cross validation score is less than 0.9. So, we can't guarantee that our split dataset is good for trainning."
   ]
  },
  {
   "cell_type": "markdown",
   "metadata": {},
   "source": [
    "### 3. Comparative Analysis of Optimized Classification Models ###"
   ]
  },
  {
   "cell_type": "markdown",
   "metadata": {},
   "source": [
    "(a) Retrain each of the three models (i.e., Decision tree, K-NN, and SVM) on all the training data using the optimal hyperparameters found in part 2. Also train a Gaussian Naive Bayes model on all the training data. (Code)  \n",
    "\n",
    "(b) Report the predictive performance on the test dataset for each of the four models from part (a) with respect to each of the following evaluation metrics: accuracy, precision, and recall. (Code and Write-up)  \n",
    "\n",
    "(c) Visualize the predictive performance of the each of the four models from part (a) by showing the resulting confusion matrix for each model. (Code and Write-up)  \n",
    "\n",
    "(d) Write a discussion analyzing and comparing the performance of the four models. For example, which method(s) perform the best and why do you think so? Which method(s) perform the worst and why do you think so? What do the different performance metrics tell you about the results? Your discussion should consist of two to three paragraphs. (Write-up).\n"
   ]
  },
  {
   "cell_type": "markdown",
   "metadata": {},
   "source": [
    "For this problem, I have a question.  \n",
    "Since I use the optimal hyperparameters found in last problem to finish the cross validation, do I need to retrain them? Or, are there something wrong with my steps in the last problem?  \n",
    "Thanks for your time."
   ]
  },
  {
   "cell_type": "code",
   "execution_count": 15,
   "metadata": {},
   "outputs": [
    {
     "name": "stdout",
     "output_type": "stream",
     "text": [
      "DecisionTreeClassifier(class_weight=None, criterion='entropy', max_depth=3,\n",
      "            max_features=None, max_leaf_nodes=None,\n",
      "            min_impurity_decrease=0.0, min_impurity_split=None,\n",
      "            min_samples_leaf=1, min_samples_split=2,\n",
      "            min_weight_fraction_leaf=0.0, presort=False, random_state=None,\n",
      "            splitter='best')\n",
      "KNeighborsClassifier(algorithm='auto', leaf_size=30, metric='manhattan',\n",
      "           metric_params=None, n_jobs=None, n_neighbors=5, p=1,\n",
      "           weights='uniform')\n",
      "SVC(C=0.0001, cache_size=200, class_weight=None, coef0=0.0,\n",
      "  decision_function_shape='ovr', degree=1, gamma=100, kernel='poly',\n",
      "  max_iter=-1, probability=False, random_state=None, shrinking=True,\n",
      "  tol=0.001, verbose=False)\n"
     ]
    }
   ],
   "source": [
    "print(clfTreeBest)\n",
    "print(clfKNN)\n",
    "print(poly_kernal_svm_clf)"
   ]
  },
  {
   "cell_type": "markdown",
   "metadata": {},
   "source": [
    "Since I traind the optimal hyperparameter in the last part, I will just train a Naive Bayes model at here."
   ]
  },
  {
   "cell_type": "code",
   "execution_count": 16,
   "metadata": {},
   "outputs": [
    {
     "data": {
      "text/plain": [
       "GaussianNB(priors=None, var_smoothing=1e-09)"
      ]
     },
     "execution_count": 16,
     "metadata": {},
     "output_type": "execute_result"
    }
   ],
   "source": [
    "from sklearn.naive_bayes import GaussianNB\n",
    "\n",
    "gaussianNB_clf = GaussianNB()\n",
    "gaussianNB_clf.fit(X_train, y_train)"
   ]
  },
  {
   "cell_type": "code",
   "execution_count": 17,
   "metadata": {},
   "outputs": [
    {
     "name": "stdout",
     "output_type": "stream",
     "text": [
      "              precision    recall  f1-score   support\n",
      "\n",
      "           0       0.94      0.94      0.94        54\n",
      "           1       0.97      0.97      0.97        89\n",
      "\n",
      "   micro avg       0.96      0.96      0.96       143\n",
      "   macro avg       0.96      0.96      0.96       143\n",
      "weighted avg       0.96      0.96      0.96       143\n",
      "\n"
     ]
    }
   ],
   "source": [
    "from sklearn import metrics\n",
    "\n",
    "y_predictedNB = gaussianNB_clf.predict(X_test)\n",
    "print(metrics.classification_report(y_predictedNB, y_test))"
   ]
  },
  {
   "cell_type": "code",
   "execution_count": 18,
   "metadata": {},
   "outputs": [
    {
     "name": "stdout",
     "output_type": "stream",
     "text": [
      "The Accuracy of Naive Bayes is  0.9507024265644957\n"
     ]
    }
   ],
   "source": [
    "num_validations=5\n",
    "accuracy=cross_val_score(gaussianNB_clf,X_test,y_test,\n",
    "                         scoring='accuracy',cv=num_validations)\n",
    "print('The Accuracy of Naive Bayes is ', accuracy.mean())"
   ]
  },
  {
   "cell_type": "markdown",
   "metadata": {},
   "source": [
    "Here, we use the cross validation to get the accuracy of Naive Bayes. Although the Naive Bayes does not train for optimal hyperparameter, the accuracy, precision and recall is pretty well."
   ]
  },
  {
   "cell_type": "code",
   "execution_count": 19,
   "metadata": {},
   "outputs": [
    {
     "name": "stdout",
     "output_type": "stream",
     "text": [
      "              precision    recall  f1-score   support\n",
      "\n",
      "           0       0.93      0.98      0.95        51\n",
      "           1       0.99      0.96      0.97        92\n",
      "\n",
      "   micro avg       0.97      0.97      0.97       143\n",
      "   macro avg       0.96      0.97      0.96       143\n",
      "weighted avg       0.97      0.97      0.97       143\n",
      "\n"
     ]
    }
   ],
   "source": [
    "y_predictedTree = clfTreeBest.predict(X_test)\n",
    "print(metrics.classification_report(y_predictedTree, y_test))"
   ]
  },
  {
   "cell_type": "code",
   "execution_count": 20,
   "metadata": {},
   "outputs": [
    {
     "name": "stdout",
     "output_type": "stream",
     "text": [
      "The Accuracy of decision tree is  0.965034965034965\n"
     ]
    }
   ],
   "source": [
    "treeAccuracy = clfTreeBest.score(X_test, y_test)\n",
    "print('The Accuracy of decision tree is ',treeAccuracy)"
   ]
  },
  {
   "cell_type": "markdown",
   "metadata": {},
   "source": [
    "As for the decision tree, the accuracy of the decision tree is higher than NB. Not all the precision and recall is higher than NB, but I think the over all performance of decision tree is better than NB."
   ]
  },
  {
   "cell_type": "code",
   "execution_count": 21,
   "metadata": {},
   "outputs": [
    {
     "name": "stdout",
     "output_type": "stream",
     "text": [
      "              precision    recall  f1-score   support\n",
      "\n",
      "           0       0.96      0.96      0.96        54\n",
      "           1       0.98      0.98      0.98        89\n",
      "\n",
      "   micro avg       0.97      0.97      0.97       143\n",
      "   macro avg       0.97      0.97      0.97       143\n",
      "weighted avg       0.97      0.97      0.97       143\n",
      "\n"
     ]
    }
   ],
   "source": [
    "y_predictedKNN = clfKNN.predict(X_test_norm)\n",
    "print(metrics.classification_report(y_predictedKNN, y_test))"
   ]
  },
  {
   "cell_type": "code",
   "execution_count": 22,
   "metadata": {},
   "outputs": [
    {
     "name": "stdout",
     "output_type": "stream",
     "text": [
      "The Accuracy of KNN is  0.972027972027972\n"
     ]
    }
   ],
   "source": [
    "KNNAccuracy = clfKNN.score(X_test_norm, y_test)\n",
    "print('The Accuracy of KNN is ',KNNAccuracy)"
   ]
  },
  {
   "cell_type": "markdown",
   "metadata": {},
   "source": [
    "The accuracy and the other two metrics of KNN is much better than both decision tree and NB. So far, the KNN is the best prediction model."
   ]
  },
  {
   "cell_type": "code",
   "execution_count": 23,
   "metadata": {},
   "outputs": [
    {
     "name": "stdout",
     "output_type": "stream",
     "text": [
      "              precision    recall  f1-score   support\n",
      "\n",
      "           0       0.94      1.00      0.97        51\n",
      "           1       1.00      0.97      0.98        92\n",
      "\n",
      "   micro avg       0.98      0.98      0.98       143\n",
      "   macro avg       0.97      0.98      0.98       143\n",
      "weighted avg       0.98      0.98      0.98       143\n",
      "\n"
     ]
    }
   ],
   "source": [
    "y_predictedSVM = poly_kernal_svm_clf.predict(X_test_scaled)\n",
    "print(metrics.classification_report(y_predictedSVM, y_test))"
   ]
  },
  {
   "cell_type": "code",
   "execution_count": 24,
   "metadata": {},
   "outputs": [
    {
     "name": "stdout",
     "output_type": "stream",
     "text": [
      "The Accuracy of SVM is  0.9790209790209791\n"
     ]
    }
   ],
   "source": [
    "SVMAccuracy = poly_kernal_svm_clf.score(X_test_scaled, y_test)\n",
    "print('The Accuracy of SVM is ',SVMAccuracy)"
   ]
  },
  {
   "cell_type": "markdown",
   "metadata": {},
   "source": [
    "The new and the final winner is here, the poly kernal SVM. The accuracy of SVM is even higher than KNN and the precision and recall are also in good performance. From my perspective, I think the svm is the best model."
   ]
  },
  {
   "cell_type": "markdown",
   "metadata": {},
   "source": [
    "**(c) Visualize the predictive performance of the each of the four models from part (a) by showing the resulting confusion matrix for each model. (Code and Write-up)**"
   ]
  },
  {
   "cell_type": "code",
   "execution_count": 25,
   "metadata": {},
   "outputs": [
    {
     "name": "stdout",
     "output_type": "stream",
     "text": [
      "This is the confusion matrix for NB\n"
     ]
    },
    {
     "data": {
      "image/png": "[encoded data removed]",
      "text/plain": [
       "<Figure size 432x288 with 1 Axes>"
      ]
     },
     "metadata": {
      "needs_background": "light"
     },
     "output_type": "display_data"
    }
   ],
   "source": [
    "from sklearn.metrics import confusion_matrix\n",
    "import seaborn as sns\n",
    "import matplotlib.pyplot as plt\n",
    "\n",
    "NBmat = confusion_matrix(y_predictedNB, y_test)\n",
    "sns.heatmap(NBmat.T, square=True, annot=True, fmt='d', cbar=False)\n",
    "plt.xlabel('true label')\n",
    "plt.ylabel('predict lable')\n",
    "\n",
    "print(\"This is the confusion matrix for NB\")"
   ]
  },
  {
   "cell_type": "markdown",
   "metadata": {},
   "source": [
    "The TP for the NB is 86, FP is 3, FN is 3, TN is 51."
   ]
  },
  {
   "cell_type": "code",
   "execution_count": 26,
   "metadata": {},
   "outputs": [
    {
     "name": "stdout",
     "output_type": "stream",
     "text": [
      "This is the confusion matrix for decision tree\n"
     ]
    },
    {
     "data": {
      "image/png": "[encoded data removed]",
      "text/plain": [
       "<Figure size 432x288 with 1 Axes>"
      ]
     },
     "metadata": {
      "needs_background": "light"
     },
     "output_type": "display_data"
    }
   ],
   "source": [
    "treeMat = confusion_matrix(y_predictedTree, y_test)\n",
    "sns.heatmap(treeMat.T, square=True, annot=True, fmt='d', cbar=False)\n",
    "plt.xlabel('true label')\n",
    "plt.ylabel('predict lable')\n",
    "\n",
    "print(\"This is the confusion matrix for decision tree\")"
   ]
  },
  {
   "cell_type": "markdown",
   "metadata": {},
   "source": [
    "The TP for the decision tree is 87, FP is 2, FN is 4, TN is 50."
   ]
  },
  {
   "cell_type": "code",
   "execution_count": 27,
   "metadata": {},
   "outputs": [
    {
     "name": "stdout",
     "output_type": "stream",
     "text": [
      "This is the confusion matrix for KNN\n"
     ]
    },
    {
     "data": {
      "image/png": "[encoded data removed]",
      "text/plain": [
       "<Figure size 432x288 with 1 Axes>"
      ]
     },
     "metadata": {
      "needs_background": "light"
     },
     "output_type": "display_data"
    }
   ],
   "source": [
    "KNNmat = confusion_matrix(y_predictedKNN, y_test)\n",
    "sns.heatmap(KNNmat.T, square=True, annot=True, fmt='d', cbar=False)\n",
    "plt.xlabel('true label')\n",
    "plt.ylabel('predict lable')\n",
    "\n",
    "print(\"This is the confusion matrix for KNN\")"
   ]
  },
  {
   "cell_type": "markdown",
   "metadata": {},
   "source": [
    "The TP for the KNN is 87, FP is 2, FN is 2, TN is 52."
   ]
  },
  {
   "cell_type": "code",
   "execution_count": 28,
   "metadata": {},
   "outputs": [
    {
     "name": "stdout",
     "output_type": "stream",
     "text": [
      "This is the confusion matrix for SVM\n"
     ]
    },
    {
     "data": {
      "image/png": "[encoded data removed]",
      "text/plain": [
       "<Figure size 432x288 with 1 Axes>"
      ]
     },
     "metadata": {
      "needs_background": "light"
     },
     "output_type": "display_data"
    }
   ],
   "source": [
    "SVMmat = confusion_matrix(y_predictedSVM, y_test)\n",
    "sns.heatmap(SVMmat.T, square=True, annot=True, fmt='d', cbar=False)\n",
    "plt.xlabel('true label')\n",
    "plt.ylabel('predict lable')\n",
    "\n",
    "print(\"This is the confusion matrix for SVM\")"
   ]
  },
  {
   "cell_type": "markdown",
   "metadata": {},
   "source": [
    "The TP for the SVM is 89, FP is 0, FN is 3, TN is 51."
   ]
  },
  {
   "cell_type": "markdown",
   "metadata": {},
   "source": [
    "**(d) Write a discussion analyzing and comparing the performance of the four models. For example, which method(s) perform the best and why do you think so? Which method(s) perform the worst and why do you think so? What do the different performance metrics tell you about the results? Your discussion should consist of two to three paragraphs. (Write-up).**"
   ]
  },
  {
   "cell_type": "markdown",
   "metadata": {},
   "source": [
    "From the result above, I think that the SVM is my best prediction modle for this dataset. Because it has the highest accuracy. Meanwhile, the performance of the precision and the recall are also very good. Although not all the metrics are the highest, it's good enough for the prediction. And since the training data set is selected randomly, so the accuracy score is uesful to describe a model. So, I think the SVM model is the best one."
   ]
  },
  {
   "cell_type": "code",
   "execution_count": null,
   "metadata": {},
   "outputs": [],
   "source": []
  }
 ],
 "metadata": {
  "kernelspec": {
   "display_name": "Python 3",
   "language": "python",
   "name": "python3"
  },
  "language_info": {
   "codemirror_mode": {
    "name": "ipython",
    "version": 3
   },
   "file_extension": ".py",
   "mimetype": "text/x-python",
   "name": "python",
   "nbconvert_exporter": "python",
   "pygments_lexer": "ipython3",
   "version": "3.6.8"
  }
 },
 "nbformat": 4,
 "nbformat_minor": 2
}
