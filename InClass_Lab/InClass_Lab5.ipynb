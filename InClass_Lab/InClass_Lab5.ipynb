{
 "cells": [
  {
   "cell_type": "code",
   "execution_count": 2,
   "metadata": {},
   "outputs": [],
   "source": [
    "import pandas as pd\n",
    "import numpy as np\n",
    "from numpy import nan\n",
    "\n",
    "X_train = ([[nan, 0, 3],\n",
    "          [3, 7, 9],\n",
    "          [3, 5, 2],\n",
    "          [4, nan, 6],\n",
    "          [8, 8, 1]])\n",
    "\n",
    "X_test = ([[14, 15, -1],\n",
    "          [nan, 8, -5]])"
   ]
  },
  {
   "cell_type": "code",
   "execution_count": 5,
   "metadata": {},
   "outputs": [
    {
     "name": "stdout",
     "output_type": "stream",
     "text": [
      "[3.5 6.  3. ]\n"
     ]
    }
   ],
   "source": [
    "# Train imputer\n",
    "from sklearn.preprocessing import Imputer\n",
    "\n",
    "imputer = Imputer(strategy='median')\n",
    "imputer.fit(X_train)\n",
    "print(imputer.statistics_)"
   ]
  },
  {
   "cell_type": "code",
   "execution_count": 8,
   "metadata": {},
   "outputs": [],
   "source": [
    "X_train_fixed = imputer.transform(X_train)"
   ]
  },
  {
   "cell_type": "code",
   "execution_count": 7,
   "metadata": {},
   "outputs": [
    {
     "name": "stdout",
     "output_type": "stream",
     "text": [
      "[[14.  15.  -1. ]\n",
      " [ 3.5  8.  -5. ]]\n"
     ]
    }
   ],
   "source": [
    "X_test_fixed = imputer.transform(X_test)\n",
    "print(X_test_fixed)"
   ]
  },
  {
   "cell_type": "code",
   "execution_count": 9,
   "metadata": {},
   "outputs": [
    {
     "name": "stdout",
     "output_type": "stream",
     "text": [
      "[0.2   0.125 0.125]\n",
      "[-0.6    0.    -0.125]\n"
     ]
    }
   ],
   "source": [
    "# scaling numberical features min-max scaliong\n",
    "from sklearn.preprocessing import MinMaxScaler\n",
    "\n",
    "mms = MinMaxScaler()\n",
    "mms.fit(X_train_fixed)\n",
    "print(mms.scale_)\n",
    "print(mms.min_)"
   ]
  },
  {
   "cell_type": "code",
   "execution_count": 10,
   "metadata": {},
   "outputs": [
    {
     "name": "stdout",
     "output_type": "stream",
     "text": [
      "[[0.1   0.    0.25 ]\n",
      " [0.    0.875 1.   ]\n",
      " [0.    0.625 0.125]\n",
      " [0.2   0.75  0.625]\n",
      " [1.    1.    0.   ]]\n"
     ]
    }
   ],
   "source": [
    "X_train_scaled = mms.transform(X_train_fixed)\n",
    "print(X_train_scaled)"
   ]
  },
  {
   "cell_type": "code",
   "execution_count": 11,
   "metadata": {},
   "outputs": [
    {
     "name": "stdout",
     "output_type": "stream",
     "text": [
      "[[ 2.2    1.875 -0.25 ]\n",
      " [ 0.1    1.    -0.75 ]]\n"
     ]
    }
   ],
   "source": [
    "X_test_scaled = mms.transform(X_test_fixed)\n",
    "print(X_test_scaled)\n",
    "# we can't guarantee that the test data is also in 1"
   ]
  },
  {
   "cell_type": "code",
   "execution_count": 12,
   "metadata": {},
   "outputs": [
    {
     "name": "stdout",
     "output_type": "stream",
     "text": [
      "[[-0.42399915 -1.86669121 -0.41015156]\n",
      " [-0.68899862  0.64616234  1.64060622]\n",
      " [-0.68899862 -0.07179582 -0.75194452]\n",
      " [-0.15899968  0.28718326  0.61522733]\n",
      " [ 1.96099608  1.00514142 -1.09373748]]\n",
      "[[ 5.14098972  3.51799498 -1.77732341]\n",
      " [-0.42399915  1.00514142 -3.14449526]]\n"
     ]
    }
   ],
   "source": [
    "# standardization\n",
    "from sklearn.preprocessing import StandardScaler\n",
    "\n",
    "stdsc = StandardScaler()\n",
    "stdsc = stdsc.fit(X_train_fixed)\n",
    "X_train_std = stdsc.transform(X_train_fixed)\n",
    "X_test_std = stdsc.transform(X_test_fixed)\n",
    "print(X_train_std)\n",
    "print(X_test_std)"
   ]
  },
  {
   "cell_type": "code",
   "execution_count": 13,
   "metadata": {},
   "outputs": [
    {
     "name": "stdout",
     "output_type": "stream",
     "text": [
      "test data: \n",
      "[[1. 0. 0. 1. 0. 0. 1. 0. 0.]]\n"
     ]
    },
    {
     "name": "stderr",
     "output_type": "stream",
     "text": [
      "/Users/yizhuoli/anaconda3/lib/python3.7/site-packages/sklearn/preprocessing/_encoders.py:368: FutureWarning: The handling of integer data will change in version 0.22. Currently, the categories are determined based on the range [0, max(values)], while in the future they will be determined based on the unique values.\n",
      "If you want the future behaviour and silence this warning, you can specify \"categories='auto'\".\n",
      "In case you used a LabelEncoder before this OneHotEncoder to convert the categories to integers, then you can now use the OneHotEncoder directly.\n",
      "  warnings.warn(msg, FutureWarning)\n"
     ]
    }
   ],
   "source": [
    "# 3. Convert categorical variables to one-hot encodings\n",
    "from sklearn.preprocessing import OneHotEncoder\n",
    "\n",
    "# Train data\n",
    "# 0 0 3\n",
    "# 1 1 0\n",
    "# 0 2 1\n",
    "# 1 0 2\n",
    "# 分别有，2，3，4个feature\n",
    "\n",
    "enc = OneHotEncoder()\n",
    "data = [[0, 0, 3],\n",
    "       [1,1,0],\n",
    "       [0,2,1],\n",
    "       [1,0,2]]\n",
    "enc.fit(data)\n",
    "encoding = enc.transform([[0, 1, 1]]).toarray()\n",
    "print(\"test data: \\n{}\".format(encoding))"
   ]
  },
  {
   "cell_type": "code",
   "execution_count": 15,
   "metadata": {},
   "outputs": [
    {
     "name": "stdout",
     "output_type": "stream",
     "text": [
      "[[-4.10731609e+02  3.36985190e+01]\n",
      " [-2.81219335e+02 -2.12845520e+00]\n",
      " [-3.56452464e+02 -2.60066854e+01]\n",
      " [-3.37443018e+02 -3.92170174e+01]\n",
      " [ 1.83470270e+03 -1.18074033e+02]\n",
      " [-1.05200751e+02  1.85068469e+02]\n",
      " [-1.98627021e+02 -1.94924099e+01]\n",
      " [-3.61753401e+02 -2.17360357e+01]\n",
      " [-3.90962639e+02 -1.35657855e+01]\n",
      " [-4.74123684e+02  2.70744503e+01]\n",
      " [-4.10006682e+02  6.86713713e+01]\n",
      " [-1.89069555e+02 -3.30095196e+01]\n",
      " [ 1.18980298e+03 -7.25381606e+01]\n",
      " [ 1.27621071e+02 -9.62382348e+01]\n",
      " [ 2.35435605e+03 -7.38627548e+02]\n",
      " [-9.29177699e+00 -9.28832675e+01]\n",
      " [-3.91640103e+02 -4.25004521e+00]\n",
      " [-6.48086776e+02  4.05372301e+01]\n",
      " [-5.05491604e+02  3.58977234e+01]\n",
      " [-4.39718669e+02  3.42196460e+01]\n",
      " [ 1.14902082e+03 -6.12563700e+01]\n",
      " [-2.90327764e+02 -1.61203815e+01]\n",
      " [-5.27856427e+02  1.39077197e+01]\n",
      " [-3.87530246e+02 -8.38746542e+00]\n",
      " [ 8.79945422e+01  4.74455704e+01]\n",
      " [-5.27856449e+02  4.57777699e+01]\n",
      " [-4.69420546e+02  1.47800109e+01]\n",
      " [-2.38523565e+02 -7.76354155e+00]\n",
      " [-4.30712498e+02  2.82996306e+00]\n",
      " [-3.00129565e+02 -2.06050988e+01]\n",
      " [-4.50617028e+02  2.10696155e+01]\n",
      " [-5.67623166e+02  2.47379732e+01]\n",
      " [ 8.26958585e+02  1.66131998e+02]\n",
      " [-1.94372942e+02 -6.03757161e+01]\n",
      " [ 1.18570909e+03  5.68658332e+01]\n",
      " [-3.25227762e+02  3.48432818e+01]\n",
      " [ 1.09461819e+03 -1.30012409e+02]\n",
      " [-5.08718047e+02  1.82700608e+01]\n",
      " [-4.01297992e+02  1.03867676e+01]\n",
      " [ 6.35448462e+02 -2.30483767e+02]\n",
      " [-1.97164117e+02 -6.52282859e+01]\n",
      " [-1.04144905e+02 -7.44227367e+01]\n",
      " [ 2.29499886e+03  1.73087647e+02]\n",
      " [ 2.42213634e+02 -1.20894145e+02]\n",
      " [-6.20205634e+02  5.92836052e+01]\n",
      " [-4.94524648e+02  1.91756747e+01]\n",
      " [-3.98876041e+02  2.48000808e+01]\n",
      " [-2.65698505e+01 -2.04588644e+00]\n",
      " [-7.86772604e+02  6.27221138e+01]\n",
      " [-1.63875054e+02 -7.01699460e+01]\n",
      " [-3.77325769e+02  1.54686579e+01]\n",
      " [ 5.48282960e+02  1.55558310e+01]\n",
      " [-1.72830399e+02 -4.39562788e+01]\n",
      " [-3.25867536e+02 -2.26681325e+01]\n",
      " [-4.39794186e+02 -1.52495112e+00]\n",
      " [-1.85353302e+02 -8.55248162e+01]\n",
      " [-3.96409824e+02  8.36664804e+00]\n",
      " [-2.20189932e+02 -5.35036653e+01]\n",
      " [-5.54090040e+02  3.11551069e+01]\n",
      " [-4.85527732e+02  1.90866746e+01]\n",
      " [ 7.35811311e+02 -1.91304564e+02]\n",
      " [-2.14401715e+02 -3.09687442e+01]\n",
      " [-2.89992670e+02 -2.36318397e+01]\n",
      " [ 7.06806309e+02 -1.83979651e+01]\n",
      " [-4.39651345e+02  2.44506579e+01]\n",
      " [-9.50490839e+01 -8.82230225e+01]\n",
      " [ 1.00539313e+03 -9.56433237e+01]\n",
      " [ 4.28999126e+02 -7.25283341e+01]\n",
      " [-1.72304079e+02 -3.94584439e+01]\n",
      " [-1.29673237e+02 -8.16133314e+01]\n",
      " [ 1.07596693e+03  1.24526057e+02]\n",
      " [-3.28078805e+02 -2.43975816e+01]\n",
      " [ 4.83927519e+01  1.30840252e+02]\n",
      " [-5.95558690e+02  3.26914134e+01]\n",
      " [-4.82851394e+02  6.26419020e+00]\n",
      " [-1.50685196e+02 -2.30335103e+01]\n",
      " [-4.73930390e+02 -4.25938861e+00]\n",
      " [-8.54869722e+01 -1.44941011e+00]\n",
      " [-3.82016040e+02  1.90970731e+01]\n",
      " [-3.35797379e+02 -2.08791602e+01]\n",
      " [ 1.29741418e+02 -1.13517022e+02]\n",
      " [-4.51623803e+02 -2.25895418e+00]\n",
      " [ 5.05638816e+02 -4.32788696e+01]\n",
      " [-2.44214713e+02 -2.69437974e+01]\n",
      " [-4.20190841e+02 -2.42139576e+01]\n",
      " [ 8.53566397e+02 -2.62743164e+01]\n",
      " [ 8.03896611e+02 -1.78054001e+01]\n",
      " [-1.62945847e+01  4.77194951e+00]\n",
      " [-1.95931064e+02  2.67162125e+00]\n",
      " [-2.14688581e+02 -3.56867586e+01]\n",
      " [-5.67239602e+02  1.98260557e+01]\n",
      " [-6.06502008e+02  5.17821177e+01]\n",
      " [ 2.29224152e+02  8.66497053e+00]\n",
      " [-7.38330747e+01  1.50411687e+01]\n",
      " [-6.25675947e+02  1.78561702e+01]\n",
      " [-4.04943133e+02  2.98231114e+01]\n",
      " [ 3.29410489e+02  1.16464280e+01]\n",
      " [ 8.22610690e+02 -5.11869845e+00]\n",
      " [-4.84329281e+01 -6.86272747e+01]\n",
      " [-6.47729011e+01 -4.26037784e+01]\n",
      " [ 9.75919426e+02 -9.89513396e+01]\n",
      " [-3.46006200e+02 -3.56194365e+01]\n",
      " [-2.08830778e+02 -1.59853892e+01]\n",
      " [ 1.21140207e+02 -3.02999991e+00]\n",
      " [ 1.33496699e+03 -3.69918280e+01]\n",
      " [-3.91825016e+02 -1.11079843e+01]\n",
      " [-3.61221407e+02  1.43258154e+01]\n",
      " [ 6.14253962e+02  4.17109930e+01]\n",
      " [-7.26675345e+02  4.62926947e+01]\n",
      " [-1.09546738e+02 -5.00019445e+01]\n",
      " [ 5.71650601e+02 -1.03015283e+02]\n",
      " [-6.25621470e+02  1.81988906e+01]\n",
      " [-5.22353150e+02  1.86572045e+01]\n",
      " [-4.60533558e+02  8.53257964e+00]\n",
      " [ 8.93543887e+02  2.61884043e+00]\n",
      " [-4.14917850e+02  2.62689807e+01]\n",
      " [-2.40534145e+02 -3.44115564e+01]\n",
      " [ 9.03315015e+01  2.62543947e+01]\n",
      " [ 6.48397198e+02 -2.81972509e+01]\n",
      " [-6.75712378e+02  4.52839464e+01]\n",
      " [ 2.71797429e+03  2.64002791e+01]\n",
      " [-5.24016401e+02  1.15380613e+00]\n",
      " [-6.08365107e+02  5.55521645e+00]\n",
      " [-3.83703015e+01 -4.82498968e+01]\n",
      " [ 9.98618579e+02 -8.79219671e+00]\n",
      " [-3.60119129e+02 -6.15329369e+01]\n",
      " [-5.60150738e+02  4.70035456e+00]\n",
      " [-2.30662943e+02 -2.56307298e+01]\n",
      " [ 2.85131666e+02 -1.90188518e+01]\n",
      " [ 1.07912602e+03 -1.22146687e+02]\n",
      " [-1.78564592e+01  7.19502656e+01]\n",
      " [-6.80519949e+01 -1.70566571e+01]\n",
      " [-4.52377360e+02  1.80931127e+01]\n",
      " [-1.55219764e+02 -5.61394897e+00]\n",
      " [-4.66521877e+02 -2.02228876e+01]\n",
      " [ 4.85688169e+02 -1.43641863e+02]\n",
      " [ 4.06428096e+02 -1.24348332e+01]\n",
      " [-8.44815316e+01 -2.70259793e+01]\n",
      " [-6.84576271e+02  5.75702716e+01]\n",
      " [-2.78698646e+01  7.15458890e+01]\n",
      " [-5.26749962e+02  2.50069644e+00]\n",
      " [-2.63287236e+02  3.10801071e+01]\n",
      " [ 8.29175303e+02  7.67411531e+00]]\n"
     ]
    },
    {
     "ename": "NameError",
     "evalue": "name 'X_train_reducedm' is not defined",
     "output_type": "error",
     "traceback": [
      "\u001b[0;31m---------------------------------------------------------------------------\u001b[0m",
      "\u001b[0;31mNameError\u001b[0m                                 Traceback (most recent call last)",
      "\u001b[0;32m<ipython-input-15-0965fb8a2c58>\u001b[0m in \u001b[0;36m<module>\u001b[0;34m\u001b[0m\n\u001b[1;32m     17\u001b[0m \u001b[0;34m\u001b[0m\u001b[0m\n\u001b[1;32m     18\u001b[0m \u001b[0mmodel\u001b[0m \u001b[0;34m=\u001b[0m \u001b[0mGaussianNB\u001b[0m\u001b[0;34m(\u001b[0m\u001b[0;34m)\u001b[0m\u001b[0;34m\u001b[0m\u001b[0;34m\u001b[0m\u001b[0m\n\u001b[0;32m---> 19\u001b[0;31m \u001b[0mmodel\u001b[0m\u001b[0;34m.\u001b[0m\u001b[0mfit\u001b[0m\u001b[0;34m(\u001b[0m\u001b[0mX_train_reducedm\u001b[0m\u001b[0;34m,\u001b[0m \u001b[0my_train\u001b[0m\u001b[0;34m)\u001b[0m\u001b[0;34m\u001b[0m\u001b[0;34m\u001b[0m\u001b[0m\n\u001b[0m\u001b[1;32m     20\u001b[0m \u001b[0my_pred\u001b[0m \u001b[0;34m=\u001b[0m \u001b[0mmodel\u001b[0m\u001b[0;34m.\u001b[0m\u001b[0mpredict\u001b[0m\u001b[0;34m(\u001b[0m\u001b[0mX_test_reduce\u001b[0m\u001b[0;34m)\u001b[0m\u001b[0;34m\u001b[0m\u001b[0;34m\u001b[0m\u001b[0m\n",
      "\u001b[0;31mNameError\u001b[0m: name 'X_train_reducedm' is not defined"
     ]
    }
   ],
   "source": [
    "# prediction using PCA\n",
    "from sklearn.decomposition import PCA\n",
    "from sklearn.datasets import load_breast_cancer\n",
    "from sklearn.model_selection import train_test_split\n",
    "from sklearn.naive_bayes import GaussianNB\n",
    "\n",
    "cancer = load_breast_cancer()\n",
    "X = cancer.data\n",
    "y = cancer.target\n",
    "X_train, X_test, y_train, y_test = train_test_split(X, y)\n",
    "\n",
    "pca = PCA(n_components = 2)\n",
    "pca.fit(X_train)\n",
    "X_train_reduced = pca.transform(X_train)\n",
    "X_test_reduce = pca.transform(X_test)\n",
    "print(X_test_reduce)\n",
    "\n",
    "model = GaussianNB()\n",
    "model.fit(X_train_reducedm, y_train)\n",
    "y_pred = model.predict(X_test_reduce)\n"
   ]
  },
  {
   "cell_type": "code",
   "execution_count": 14,
   "metadata": {},
   "outputs": [
    {
     "name": "stderr",
     "output_type": "stream",
     "text": [
      "Downloading LFW metadata: https://ndownloader.figshare.com/files/5976012\n",
      "Downloading LFW metadata: https://ndownloader.figshare.com/files/5976009\n",
      "Downloading LFW metadata: https://ndownloader.figshare.com/files/5976006\n",
      "Downloading LFW data (~200MB): https://ndownloader.figshare.com/files/5976015\n"
     ]
    }
   ],
   "source": [
    "# Source: To be added\n",
    "from sklearn.datasets import fetch_lfw_people\n",
    "\n",
    "faces = fetch_lfw_people(min_faces_per_person=60)"
   ]
  },
  {
   "cell_type": "code",
   "execution_count": 16,
   "metadata": {},
   "outputs": [
    {
     "name": "stdout",
     "output_type": "stream",
     "text": [
      "['Ariel Sharon' 'Colin Powell' 'Donald Rumsfeld' 'George W Bush'\n",
      " 'Gerhard Schroeder' 'Hugo Chavez' 'Junichiro Koizumi' 'Tony Blair']\n",
      "(1348, 62, 47)\n"
     ]
    }
   ],
   "source": [
    "print(faces.target_names)\n",
    "print(faces.images.shape)"
   ]
  },
  {
   "cell_type": "code",
   "execution_count": 18,
   "metadata": {},
   "outputs": [
    {
     "name": "stdout",
     "output_type": "stream",
     "text": [
      ".. _labeled_faces_in_the_wild_dataset:\n",
      "\n",
      "The Labeled Faces in the Wild face recognition dataset\n",
      "------------------------------------------------------\n",
      "\n",
      "This dataset is a collection of JPEG pictures of famous people collected\n",
      "over the internet, all details are available on the official website:\n",
      "\n",
      "    http://vis-www.cs.umass.edu/lfw/\n",
      "\n",
      "Each picture is centered on a single face. The typical task is called\n",
      "Face Verification: given a pair of two pictures, a binary classifier\n",
      "must predict whether the two images are from the same person.\n",
      "\n",
      "An alternative task, Face Recognition or Face Identification is:\n",
      "given the picture of the face of an unknown person, identify the name\n",
      "of the person by referring to a gallery of previously seen pictures of\n",
      "identified persons.\n",
      "\n",
      "Both Face Verification and Face Recognition are tasks that are typically\n",
      "performed on the output of a model trained to perform Face Detection. The\n",
      "most popular model for Face Detection is called Viola-Jones and is\n",
      "implemented in the OpenCV library. The LFW faces were extracted by this\n",
      "face detector from various online websites.\n",
      "\n",
      "**Data Set Characteristics:**\n",
      "\n",
      "    =================   =======================\n",
      "    Classes                                5749\n",
      "    Samples total                         13233\n",
      "    Dimensionality                         5828\n",
      "    Features            real, between 0 and 255\n",
      "    =================   =======================\n",
      "\n",
      "Usage\n",
      "~~~~~\n",
      "\n",
      "``scikit-learn`` provides two loaders that will automatically download,\n",
      "cache, parse the metadata files, decode the jpeg and convert the\n",
      "interesting slices into memmapped numpy arrays. This dataset size is more\n",
      "than 200 MB. The first load typically takes more than a couple of minutes\n",
      "to fully decode the relevant part of the JPEG files into numpy arrays. If\n",
      "the dataset has  been loaded once, the following times the loading times\n",
      "less than 200ms by using a memmapped version memoized on the disk in the\n",
      "``~/scikit_learn_data/lfw_home/`` folder using ``joblib``.\n",
      "\n",
      "The first loader is used for the Face Identification task: a multi-class\n",
      "classification task (hence supervised learning)::\n",
      "\n",
      "  >>> from sklearn.datasets import fetch_lfw_people\n",
      "  >>> lfw_people = fetch_lfw_people(min_faces_per_person=70, resize=0.4)\n",
      "\n",
      "  >>> for name in lfw_people.target_names:\n",
      "  ...     print(name)\n",
      "  ...\n",
      "  Ariel Sharon\n",
      "  Colin Powell\n",
      "  Donald Rumsfeld\n",
      "  George W Bush\n",
      "  Gerhard Schroeder\n",
      "  Hugo Chavez\n",
      "  Tony Blair\n",
      "\n",
      "The default slice is a rectangular shape around the face, removing\n",
      "most of the background::\n",
      "\n",
      "  >>> lfw_people.data.dtype\n",
      "  dtype('float32')\n",
      "\n",
      "  >>> lfw_people.data.shape\n",
      "  (1288, 1850)\n",
      "\n",
      "  >>> lfw_people.images.shape\n",
      "  (1288, 50, 37)\n",
      "\n",
      "Each of the ``1140`` faces is assigned to a single person id in the ``target``\n",
      "array::\n",
      "\n",
      "  >>> lfw_people.target.shape\n",
      "  (1288,)\n",
      "\n",
      "  >>> list(lfw_people.target[:10])\n",
      "  [5, 6, 3, 1, 0, 1, 3, 4, 3, 0]\n",
      "\n",
      "The second loader is typically used for the face verification task: each sample\n",
      "is a pair of two picture belonging or not to the same person::\n",
      "\n",
      "  >>> from sklearn.datasets import fetch_lfw_pairs\n",
      "  >>> lfw_pairs_train = fetch_lfw_pairs(subset='train')\n",
      "\n",
      "  >>> list(lfw_pairs_train.target_names)\n",
      "  ['Different persons', 'Same person']\n",
      "\n",
      "  >>> lfw_pairs_train.pairs.shape\n",
      "  (2200, 2, 62, 47)\n",
      "\n",
      "  >>> lfw_pairs_train.data.shape\n",
      "  (2200, 5828)\n",
      "\n",
      "  >>> lfw_pairs_train.target.shape\n",
      "  (2200,)\n",
      "\n",
      "Both for the :func:`sklearn.datasets.fetch_lfw_people` and\n",
      ":func:`sklearn.datasets.fetch_lfw_pairs` function it is\n",
      "possible to get an additional dimension with the RGB color channels by\n",
      "passing ``color=True``, in that case the shape will be\n",
      "``(2200, 2, 62, 47, 3)``.\n",
      "\n",
      "The :func:`sklearn.datasets.fetch_lfw_pairs` datasets is subdivided into\n",
      "3 subsets: the development ``train`` set, the development ``test`` set and\n",
      "an evaluation ``10_folds`` set meant to compute performance metrics using a\n",
      "10-folds cross validation scheme.\n",
      "\n",
      ".. topic:: References:\n",
      "\n",
      " * `Labeled Faces in the Wild: A Database for Studying Face Recognition\n",
      "   in Unconstrained Environments.\n",
      "   <http://vis-www.cs.umass.edu/lfw/lfw.pdf>`_\n",
      "   Gary B. Huang, Manu Ramesh, Tamara Berg, and Erik Learned-Miller.\n",
      "   University of Massachusetts, Amherst, Technical Report 07-49, October, 2007.\n",
      "\n",
      "\n",
      "Examples\n",
      "~~~~~~~~\n",
      "\n",
      ":ref:`sphx_glr_auto_examples_applications_plot_face_recognition.py`\n",
      "\n"
     ]
    }
   ],
   "source": [
    "print(faces.DESCR)"
   ]
  },
  {
   "cell_type": "code",
   "execution_count": 20,
   "metadata": {},
   "outputs": [],
   "source": [
    "pca = PCA(150, svd_solver='randomized')\n",
    "pca.fit(faces.data)\n",
    "components = pca.transform(faces.data)"
   ]
  },
  {
   "cell_type": "code",
   "execution_count": 21,
   "metadata": {},
   "outputs": [],
   "source": [
    "projected = pca.inverse_transform(components)"
   ]
  },
  {
   "cell_type": "code",
   "execution_count": 26,
   "metadata": {},
   "outputs": [
    {
     "data": {
      "text/plain": [
       "Text(0, 0.5, '150-dim\\nreconstruction')"
      ]
     },
     "execution_count": 26,
     "metadata": {},
     "output_type": "execute_result"
    },
    {
     "data": {
      "image/png": "[encoded data removed]",
      "text/plain": [
       "<Figure size 720x180 with 20 Axes>"
      ]
     },
     "metadata": {},
     "output_type": "display_data"
    }
   ],
   "source": [
    "# Visualize the results when have 3000 pixels(top row)\n",
    "# and when using only 150 components (bottom row)\n",
    "import matplotlib.pyplot as plt\n",
    "%matplotlib inline\n",
    "fig, ax = plt.subplots(2, 10, figsize=(10, 2.5),\n",
    "                      subplot_kw = {'xticks':[],'yticks':[]},\n",
    "                      gridspec_kw = dict(hspace=0.1, wspace=0.1))\n",
    "for i in range(10):\n",
    "    ax[0, i].imshow(faces.data[i].reshape(62, 47), cmap='binary_r')\n",
    "    ax[1, i].imshow(projected[i].reshape(62, 47), cmap='binary_r')\n",
    "    \n",
    "ax[0, 0].set_ylabel('full-dim\\ninput')\n",
    "ax[1, 0].set_ylabel('150-dim\\nreconstruction')"
   ]
  },
  {
   "cell_type": "code",
   "execution_count": null,
   "metadata": {},
   "outputs": [],
   "source": []
  }
 ],
 "metadata": {
  "kernelspec": {
   "display_name": "Python 3",
   "language": "python",
   "name": "python3"
  },
  "language_info": {
   "codemirror_mode": {
    "name": "ipython",
    "version": 3
   },
   "file_extension": ".py",
   "mimetype": "text/x-python",
   "name": "python",
   "nbconvert_exporter": "python",
   "pygments_lexer": "ipython3",
   "version": "3.6.8"
  }
 },
 "nbformat": 4,
 "nbformat_minor": 2
}
