{
 "cells": [
  {
   "cell_type": "markdown",
   "metadata": {},
   "source": [
    "## Introduction to Machine Learning ##  \n",
    "\n",
    "### Lab Assignment 4: Classification Using Hand-Crafted Features and Neural Networks ###"
   ]
  },
  {
   "cell_type": "code",
   "execution_count": 1,
   "metadata": {},
   "outputs": [
    {
     "name": "stdout",
     "output_type": "stream",
     "text": [
      "https://ivc.ischool.utexas.edu/VizWiz/data/Images/\n"
     ]
    }
   ],
   "source": [
    "# Lab assignment 4 foundation\n",
    "# - Working with the VizWiz dataset\n",
    "\n",
    "import os\n",
    "import json\n",
    "from pprint import pprint\n",
    "import requests\n",
    "\n",
    "base_url = 'https://ivc.ischool.utexas.edu/VizWiz/data'\n",
    "img_dir = '%s/Images/' %base_url\n",
    "print(img_dir)"
   ]
  },
  {
   "cell_type": "code",
   "execution_count": 2,
   "metadata": {},
   "outputs": [
    {
     "name": "stdout",
     "output_type": "stream",
     "text": [
      "https://ivc.ischool.utexas.edu/VizWiz/data/Annotations/train.json\n"
     ]
    }
   ],
   "source": [
    "# Retrieve file from URL and store it locally\n",
    "split = 'train'\n",
    "trainFile = '%s/Annotations/%s.json' %(base_url, split)\n",
    "trainData = requests.get(trainFile, allow_redirects=True)\n",
    "print(trainFile)"
   ]
  },
  {
   "cell_type": "code",
   "execution_count": 38,
   "metadata": {},
   "outputs": [
    {
     "name": "stdout",
     "output_type": "stream",
     "text": [
      "https://ivc.ischool.utexas.edu/VizWiz/data/Annotations/test.json\n"
     ]
    }
   ],
   "source": [
    "split = 'test'\n",
    "testFile = '%s/Annotations/%s.json' %(base_url, split)\n",
    "testData = requests.get(testFile, allow_redirects=True)\n",
    "print(testFile)"
   ]
  },
  {
   "cell_type": "code",
   "execution_count": 3,
   "metadata": {},
   "outputs": [
    {
     "name": "stdout",
     "output_type": "stream",
     "text": [
      "VizWiz_train_000000000000.jpg\n",
      "What's the name of this product?\n",
      "1\n",
      "VizWiz_train_000000000001.jpg\n",
      "Can you tell me what is in this can please?\n",
      "1\n",
      "VizWiz_train_000000000002.jpg\n",
      "Is this enchilada sauce or is this tomatoes?  Thank you.\n",
      "1\n",
      "VizWiz_train_000000000003.jpg\n",
      "What is the captcha on this screenshot?\n",
      "1\n"
     ]
    }
   ],
   "source": [
    "# Read the local file\n",
    "numTrainVQs = 4\n",
    "trainingData = trainData.json()\n",
    "for vq in trainingData[0:numTrainVQs]:\n",
    "    image_name = vq['image']\n",
    "    question = vq['question']\n",
    "    label = vq['answerable']\n",
    "    print(image_name)\n",
    "    print(question)\n",
    "    print(label)"
   ]
  },
  {
   "cell_type": "code",
   "execution_count": 4,
   "metadata": {},
   "outputs": [
    {
     "name": "stdout",
     "output_type": "stream",
     "text": [
      "https://ivc.ischool.utexas.edu/VizWiz/data/Annotations/val.json\n"
     ]
    }
   ],
   "source": [
    "split = 'val'\n",
    "valFile = '%s/Annotations/%s.json' %(base_url, split)\n",
    "valData = requests.get(valFile, allow_redirects=True)\n",
    "print(valFile)"
   ]
  },
  {
   "cell_type": "code",
   "execution_count": 5,
   "metadata": {
    "scrolled": true
   },
   "outputs": [
    {
     "name": "stdout",
     "output_type": "stream",
     "text": [
      "VizWiz_val_000000028000.jpg\n",
      "What's this?\n",
      "0\n",
      "VizWiz_val_000000028001.jpg\n",
      "What is this?\n",
      "0\n",
      "VizWiz_val_000000028002.jpg\n",
      "What is this?\n",
      "1\n"
     ]
    }
   ],
   "source": [
    "numValVQs = 3\n",
    "validationData = valData.json()\n",
    "for vq in validationData[:numValVQs]:\n",
    "    image_name = vq['image']\n",
    "    question = vq['question']\n",
    "    label = vq['answerable']\n",
    "    print(image_name)\n",
    "    print(question)\n",
    "    print(label)"
   ]
  },
  {
   "cell_type": "code",
   "execution_count": 6,
   "metadata": {},
   "outputs": [],
   "source": [
    "from skimage import io\n",
    "from skimage.transform import resize\n",
    "from skimage import color\n",
    "from skimage import feature\n",
    "\n",
    "def extract_image_features(image_url):\n",
    "    \n",
    "    # Read image\n",
    "    image = io.imread(image_url)\n",
    "    \n",
    "    #Pre-process image\n",
    "    width=255\n",
    "    height = 255\n",
    "    image = resize(image, (width, height)) # Ensuring all images have the same dimension\n",
    "    greyscale_image = color.rgb2gray(image) # Restricting the dimension of our data from 3D to 2D\n",
    "    \n",
    "    # Extract features (skimage features)\n",
    "    featureVector = feature.hog(greyscale_image, orientations=9, pixels_per_cell=(8,8), cells_per_block=(1,1))\n",
    "    \n",
    "    return featureVector\n",
    "    "
   ]
  },
  {
   "cell_type": "code",
   "execution_count": 7,
   "metadata": {},
   "outputs": [
    {
     "name": "stderr",
     "output_type": "stream",
     "text": [
      "[nltk_data] Downloading package averaged_perceptron_tagger to\n",
      "[nltk_data]     /Users/yizhuoli/nltk_data...\n",
      "[nltk_data]   Package averaged_perceptron_tagger is already up-to-\n",
      "[nltk_data]       date!\n"
     ]
    },
    {
     "data": {
      "text/plain": [
       "True"
      ]
     },
     "execution_count": 7,
     "metadata": {},
     "output_type": "execute_result"
    }
   ],
   "source": [
    "import nltk\n",
    "nltk.download('averaged_perceptron_tagger')"
   ]
  },
  {
   "cell_type": "code",
   "execution_count": 8,
   "metadata": {},
   "outputs": [
    {
     "name": "stdout",
     "output_type": "stream",
     "text": [
      "https://ivc.ischool.utexas.edu/VizWiz/data/Images/VizWiz_val_000000028000.jpg\n"
     ]
    },
    {
     "data": {
      "text/plain": [
       "<Figure size 640x480 with 1 Axes>"
      ]
     },
     "metadata": {},
     "output_type": "display_data"
    },
    {
     "name": "stdout",
     "output_type": "stream",
     "text": [
      "https://ivc.ischool.utexas.edu/VizWiz/data/Images/VizWiz_val_000000028001.jpg\n"
     ]
    },
    {
     "data": {
      "text/plain": [
       "<Figure size 640x480 with 1 Axes>"
      ]
     },
     "metadata": {},
     "output_type": "display_data"
    }
   ],
   "source": [
    "import matplotlib.pyplot as plt\n",
    "\n",
    "# read image from URL\n",
    "def visualize_image(image_url):\n",
    "    image = io.imread(image_url)\n",
    "    print(image_url)\n",
    "    plt.imshow(image)\n",
    "    plt.axis(\"off\")\n",
    "    plt.show()\n",
    "    \n",
    "num_vqs = 2\n",
    "for vq in validationData[:num_vqs]:\n",
    "    image_name = vq['image']\n",
    "    image_url = img_dir + image_name\n",
    "    visualize_image(image_url)"
   ]
  },
  {
   "cell_type": "code",
   "execution_count": 9,
   "metadata": {},
   "outputs": [],
   "source": [
    "# Extract features to describe the questions\n",
    "import nltk\n",
    "\n",
    "def extract_language_features(question):\n",
    "#     print(question)\n",
    "    question = question.lower()\n",
    "#     print(question)\n",
    "    \n",
    "    words = question.split()\n",
    "    num_unique_words = len(set(words))\n",
    "    num_words = len(words)\n",
    "    \n",
    "    partsOfSpeechTag = nltk.pos_tag(words)\n",
    "    \n",
    "#     tokenized_question = nltk.word_tokenize(question)\n",
    "#     num_words = len()\n",
    "    \n",
    "    featureVector = [num_unique_words, num_words]\n",
    "    \n",
    "    return featureVector"
   ]
  },
  {
   "cell_type": "code",
   "execution_count": 10,
   "metadata": {},
   "outputs": [
    {
     "name": "stdout",
     "output_type": "stream",
     "text": [
      "(2,)\n",
      "[0.20868969 0.07855178 0.00785362 0.00422292 0.49529085]\n",
      "(8649,)\n",
      "[6.00000000e+00 6.00000000e+00 2.08689685e-01 7.85517844e-02\n",
      " 7.85361933e-03 4.22292086e-03 4.95290846e-01]\n",
      "(8651,)\n"
     ]
    },
    {
     "name": "stderr",
     "output_type": "stream",
     "text": [
      "/Users/yizhuoli/anaconda3/lib/python3.6/site-packages/skimage/transform/_warps.py:105: UserWarning: The default mode, 'constant', will be changed to 'reflect' in skimage 0.15.\n",
      "  warn(\"The default mode, 'constant', will be changed to 'reflect' in \"\n",
      "/Users/yizhuoli/anaconda3/lib/python3.6/site-packages/skimage/transform/_warps.py:110: UserWarning: Anti-aliasing will be enabled by default in skimage 0.15 to avoid aliasing artifacts when down-sampling images.\n",
      "  warn(\"Anti-aliasing will be enabled by default in skimage 0.15 to \"\n",
      "/Users/yizhuoli/anaconda3/lib/python3.6/site-packages/skimage/feature/_hog.py:150: skimage_deprecation: Default value of `block_norm`==`L1` is deprecated and will be changed to `L2-Hys` in v0.15. To supress this message specify explicitly the normalization method.\n",
      "  skimage_deprecation)\n"
     ]
    }
   ],
   "source": [
    "import numpy as np\n",
    "numVQs = 1\n",
    "for vq in trainingData[:numVQs]:\n",
    "    # question features\n",
    "    question = vq['question']\n",
    "    \n",
    "    questionFeature = extract_language_features(question)\n",
    "    print(np.array(questionFeature).shape)\n",
    "    \n",
    "    # Placeholder\n",
    "    image_name = vq['image']\n",
    "    image_url = img_dir + image_name\n",
    "    image_feature = extract_image_features(image_url)\n",
    "    print(image_feature[:5])\n",
    "    print(image_feature.shape)\n",
    "    \n",
    "    # PLACEHOLDER: Concatenate the question and image features\n",
    "    multimodal_features = np.concatenate((questionFeature, image_feature), axis=None)\n",
    "    print(multimodal_features[:7])\n",
    "    print(multimodal_features.shape)"
   ]
  },
  {
   "cell_type": "code",
   "execution_count": 11,
   "metadata": {},
   "outputs": [
    {
     "data": {
      "image/png": "[encoded data removed]",
      "text/plain": [
       "<Figure size 432x288 with 1 Axes>"
      ]
     },
     "metadata": {
      "needs_background": "light"
     },
     "output_type": "display_data"
    },
    {
     "name": "stdout",
     "output_type": "stream",
     "text": [
      "{'categories': [{'name': 'others_', 'score': 0.0078125}], 'adult': {'isAdultContent': False, 'isRacyContent': False, 'adultScore': 0.006206562742590904, 'racyScore': 0.008436331525444984}, 'color': {'dominantColorForeground': 'Brown', 'dominantColorBackground': 'Brown', 'dominantColors': ['Brown'], 'accentColor': 'A77124', 'isBwImg': False, 'isBWImg': False}, 'imageType': {'clipArtType': 0, 'lineDrawingType': 0}, 'tags': [{'name': 'bottle', 'confidence': 0.9831035137176514}, {'name': 'indoor', 'confidence': 0.9509612321853638}, {'name': 'food', 'confidence': 0.9509612321853638}, {'name': 'beer', 'confidence': 0.7235718351249667}, {'name': 'wine', 'confidence': 0.2801941393055822}], 'description': {'tags': ['bottle', 'indoor', 'table', 'sitting', 'wine', 'food', 'glass', 'plate', 'red', 'sandwich', 'laying', 'coffee', 'white'], 'captions': [{'text': 'a bottle of wine on a table', 'confidence': 0.7408009412153109}]}, 'faces': [], 'requestId': 'e6589aa7-76b3-48d3-80df-b9af809acdce', 'metadata': {'width': 1224, 'height': 1632, 'format': 'Jpeg'}}\n"
     ]
    }
   ],
   "source": [
    "import matplotlib.pyplot as plt\n",
    "import requests\n",
    "from skimage import io\n",
    "%matplotlib inline\n",
    "\n",
    "subscription_key_vision = ''\n",
    "vision_api_url = 'https://centralus.api.cognitive.microsoft.com/vision/v1.0/analyze?'\n",
    "img_url = 'https://ivc.ischool.utexas.edu/VizWiz/data/Images/VizWiz_val_000000028000.jpg'\n",
    "params = {'visualfeatures': 'Description,Color,Tags,Categories,Faces,ImageType,Adult'}\n",
    "data = {'url':image_url}\n",
    "\n",
    "headers = {'Ocp-Apim-Subscription-Key': subscription_key_vision}\n",
    "response = requests.post(vision_api_url, headers=headers, params=params, json=data)\n",
    "description = response.json()\n",
    "\n",
    "image = io.imread(img_url)\n",
    "plt.imshow(image)\n",
    "plt.axis('off')\n",
    "plt.show()\n",
    "print(description)"
   ]
  },
  {
   "cell_type": "code",
   "execution_count": 12,
   "metadata": {},
   "outputs": [
    {
     "name": "stdout",
     "output_type": "stream",
     "text": [
      "{\n",
      "    \"adult\": {\n",
      "        \"adultScore\": 0.006206562742590904,\n",
      "        \"isAdultContent\": false,\n",
      "        \"isRacyContent\": false,\n",
      "        \"racyScore\": 0.008436331525444984\n",
      "    },\n",
      "    \"categories\": [\n",
      "        {\n",
      "            \"name\": \"others_\",\n",
      "            \"score\": 0.0078125\n",
      "        }\n",
      "    ],\n",
      "    \"color\": {\n",
      "        \"accentColor\": \"A77124\",\n",
      "        \"dominantColorBackground\": \"Brown\",\n",
      "        \"dominantColorForeground\": \"Brown\",\n",
      "        \"dominantColors\": [\n",
      "            \"Brown\"\n",
      "        ],\n",
      "        \"isBWImg\": false,\n",
      "        \"isBwImg\": false\n",
      "    },\n",
      "    \"description\": {\n",
      "        \"captions\": [\n",
      "            {\n",
      "                \"confidence\": 0.7408009412153109,\n",
      "                \"text\": \"a bottle of wine on a table\"\n",
      "            }\n",
      "        ],\n",
      "        \"tags\": [\n",
      "            \"bottle\",\n",
      "            \"indoor\",\n",
      "            \"table\",\n",
      "            \"sitting\",\n",
      "            \"wine\",\n",
      "            \"food\",\n",
      "            \"glass\",\n",
      "            \"plate\",\n",
      "            \"red\",\n",
      "            \"sandwich\",\n",
      "            \"laying\",\n",
      "            \"coffee\",\n",
      "            \"white\"\n",
      "        ]\n",
      "    },\n",
      "    \"faces\": [],\n",
      "    \"imageType\": {\n",
      "        \"clipArtType\": 0,\n",
      "        \"lineDrawingType\": 0\n",
      "    },\n",
      "    \"metadata\": {\n",
      "        \"format\": \"Jpeg\",\n",
      "        \"height\": 1632,\n",
      "        \"width\": 1224\n",
      "    },\n",
      "    \"requestId\": \"e6589aa7-76b3-48d3-80df-b9af809acdce\",\n",
      "    \"tags\": [\n",
      "        {\n",
      "            \"confidence\": 0.9831035137176514,\n",
      "            \"name\": \"bottle\"\n",
      "        },\n",
      "        {\n",
      "            \"confidence\": 0.9509612321853638,\n",
      "            \"name\": \"indoor\"\n",
      "        },\n",
      "        {\n",
      "            \"confidence\": 0.9509612321853638,\n",
      "            \"name\": \"food\"\n",
      "        },\n",
      "        {\n",
      "            \"confidence\": 0.7235718351249667,\n",
      "            \"name\": \"beer\"\n",
      "        },\n",
      "        {\n",
      "            \"confidence\": 0.2801941393055822,\n",
      "            \"name\": \"wine\"\n",
      "        }\n",
      "    ]\n",
      "}\n"
     ]
    }
   ],
   "source": [
    "import json as js\n",
    "print(js.dumps(description, sort_keys=True, indent=4, separators=(',', ': ')))"
   ]
  },
  {
   "cell_type": "code",
   "execution_count": 13,
   "metadata": {},
   "outputs": [
    {
     "data": {
      "text/plain": [
       "{'dominantColorForeground': 'Brown',\n",
       " 'dominantColorBackground': 'Brown',\n",
       " 'dominantColors': ['Brown'],\n",
       " 'accentColor': 'A77124',\n",
       " 'isBwImg': False,\n",
       " 'isBWImg': False}"
      ]
     },
     "execution_count": 13,
     "metadata": {},
     "output_type": "execute_result"
    }
   ],
   "source": [
    "description['color']"
   ]
  },
  {
   "cell_type": "code",
   "execution_count": 14,
   "metadata": {},
   "outputs": [
    {
     "data": {
      "text/plain": [
       "6"
      ]
     },
     "execution_count": 14,
     "metadata": {},
     "output_type": "execute_result"
    }
   ],
   "source": [
    "len(description['color'])"
   ]
  },
  {
   "cell_type": "markdown",
   "metadata": {},
   "source": [
    "Personaly, I would like to assume that:  \n",
    "\n",
    "1. if the score of the category is high, then it will be easier to ansiwer.\n",
    "2. if the confidence of the description is higher then it will be better.\n",
    "3. more tags will be more eaiser\n",
    "4. the higher the highest tag's confidence, it will be easier.  \n",
    "\n",
    "So, I will use the score of the category, the confidence of the description, the number of the tags and the tag's highest confidence to train the model."
   ]
  },
  {
   "cell_type": "code",
   "execution_count": 15,
   "metadata": {},
   "outputs": [],
   "source": [
    "# get the score of the category, the confidence of the description, \n",
    "# the number of the tags and the tag's highest confidence\n",
    "score = description['categories'][0]['score']\n",
    "numOfTags = len(description['description']['tags'])\n",
    "conOfDes = description['description']['captions'][0]['confidence']\n",
    "tagCon = description['tags'][0]['confidence']"
   ]
  },
  {
   "cell_type": "markdown",
   "metadata": {},
   "source": [
    "Now we can get the data we want, we need to get all the data we want.  \n",
    "use for loop to access all the picture and then sort all the data in a list.\n",
    "for future use, we will save all the description in a list."
   ]
  },
  {
   "cell_type": "code",
   "execution_count": 16,
   "metadata": {},
   "outputs": [],
   "source": [
    "# Read the local file\n",
    "score_list = []\n",
    "numOfTags_list = []\n",
    "conOfDes_list = []\n",
    "tagCon_list = []\n",
    "description_list = []\n",
    "name_list = []\n",
    "\n",
    "error_list = []\n",
    "\n",
    "numTrainVQs = 100\n",
    "trainingData = trainData.json()\n",
    "params = {'visualfeatures': 'Description,Color,Tags,Categories,Faces,ImageType,Adult'}\n",
    "for vq in trainingData[0:numTrainVQs]:\n",
    "    image_name = vq['image']\n",
    "    try:\n",
    "        question = vq['question']\n",
    "        label = vq['answerable']\n",
    "\n",
    "        img_url = img_dir+image_name\n",
    "        data = {'url':img_url}\n",
    "        response = requests.post(vision_api_url, headers=headers, params=params, json=data)\n",
    "        description = response.json()\n",
    "\n",
    "        score = description['categories'][0]['score']\n",
    "        numOfTags = len(description['description']['tags'])\n",
    "        conOfDes = description['description']['captions'][0]['confidence']\n",
    "        tagCon = description['tags'][0]['confidence']\n",
    "        \n",
    "        score_list.append(score)\n",
    "        numOfTags_list.append(numOfTags)\n",
    "        conOfDes_list.append(conOfDes)\n",
    "        tagCon_list.append(tagCon)\n",
    "        description_list.append(description)\n",
    "        name_list.append(image_name)\n",
    "        \n",
    "    except:\n",
    "        error_list.append(image_name)"
   ]
  },
  {
   "cell_type": "code",
   "execution_count": 17,
   "metadata": {},
   "outputs": [
    {
     "name": "stdout",
     "output_type": "stream",
     "text": [
      "85\n",
      "85\n",
      "85\n",
      "85\n",
      "85\n"
     ]
    }
   ],
   "source": [
    "print(len(score_list))\n",
    "print(len(numOfTags_list))\n",
    "print(len(conOfDes_list))\n",
    "print(len(tagCon_list))\n",
    "print(len(description_list))"
   ]
  },
  {
   "cell_type": "code",
   "execution_count": 18,
   "metadata": {},
   "outputs": [
    {
     "data": {
      "text/plain": [
       "['VizWiz_train_000000000004.jpg',\n",
       " 'VizWiz_train_000000000005.jpg',\n",
       " 'VizWiz_train_000000000008.jpg',\n",
       " 'VizWiz_train_000000000016.jpg',\n",
       " 'VizWiz_train_000000000017.jpg',\n",
       " 'VizWiz_train_000000000022.jpg',\n",
       " 'VizWiz_train_000000000036.jpg',\n",
       " 'VizWiz_train_000000000056.jpg',\n",
       " 'VizWiz_train_000000000069.jpg',\n",
       " 'VizWiz_train_000000000071.jpg',\n",
       " 'VizWiz_train_000000000075.jpg',\n",
       " 'VizWiz_train_000000000076.jpg',\n",
       " 'VizWiz_train_000000000091.jpg',\n",
       " 'VizWiz_train_000000000096.jpg',\n",
       " 'VizWiz_train_000000000097.jpg']"
      ]
     },
     "execution_count": 18,
     "metadata": {},
     "output_type": "execute_result"
    }
   ],
   "source": [
    "error_list"
   ]
  },
  {
   "cell_type": "code",
   "execution_count": 19,
   "metadata": {},
   "outputs": [
    {
     "name": "stderr",
     "output_type": "stream",
     "text": [
      "100%|██████████| 2900/2900 [2:05:35<00:00,  3.40s/it]    \n"
     ]
    }
   ],
   "source": [
    "import tqdm\n",
    "\n",
    "numTrainVQs = 3000\n",
    "trainingData = trainData.json()\n",
    "params = {'visualfeatures': 'Description,Color,Tags,Categories,Faces,ImageType,Adult'}\n",
    "for vq in tqdm.tqdm(trainingData[100:numTrainVQs]):\n",
    "    image_name = vq['image']\n",
    "    try:\n",
    "        question = vq['question']\n",
    "        label = vq['answerable']\n",
    "\n",
    "        img_url = img_dir+image_name\n",
    "        data = {'url':img_url}\n",
    "        response = requests.post(vision_api_url, headers=headers, params=params, json=data)\n",
    "        description = response.json()\n",
    "\n",
    "        score = description['categories'][0]['score']\n",
    "        numOfTags = len(description['description']['tags'])\n",
    "        conOfDes = description['description']['captions'][0]['confidence']\n",
    "        tagCon = description['tags'][0]['confidence']\n",
    "        \n",
    "        score_list.append(score)\n",
    "        numOfTags_list.append(numOfTags)\n",
    "        conOfDes_list.append(conOfDes)\n",
    "        tagCon_list.append(tagCon)\n",
    "        description_list.append(description)\n",
    "        name_list.append(image_name)\n",
    "        \n",
    "    except:\n",
    "        error_list.append(image_name)"
   ]
  },
  {
   "cell_type": "code",
   "execution_count": 20,
   "metadata": {},
   "outputs": [
    {
     "name": "stdout",
     "output_type": "stream",
     "text": [
      "2445\n",
      "2445\n",
      "2445\n",
      "2445\n",
      "2445\n",
      "2445\n"
     ]
    }
   ],
   "source": [
    "print(len(score_list))\n",
    "print(len(numOfTags_list))\n",
    "print(len(conOfDes_list))\n",
    "print(len(tagCon_list))\n",
    "print(len(description_list))\n",
    "print(len(name_list))"
   ]
  },
  {
   "cell_type": "code",
   "execution_count": 21,
   "metadata": {},
   "outputs": [
    {
     "name": "stderr",
     "output_type": "stream",
     "text": [
      "100%|██████████| 3000/3000 [00:00<00:00, 62159.63it/s]"
     ]
    },
    {
     "name": "stdout",
     "output_type": "stream",
     "text": [
      "2445\n",
      "2445\n"
     ]
    },
    {
     "name": "stderr",
     "output_type": "stream",
     "text": [
      "\n"
     ]
    }
   ],
   "source": [
    "# forget to put the label and the question in the list, so we need to do the for loop again.\n",
    "question_list = []\n",
    "label_list = []\n",
    "\n",
    "for vq in tqdm.tqdm(trainingData[0:numTrainVQs]):\n",
    "    image_name = vq['image']\n",
    "    if image_name not in error_list:\n",
    "        question = vq['question']\n",
    "        label = vq['answerable']\n",
    "        \n",
    "        question_list.append(question)\n",
    "        label_list.append(label)\n",
    "\n",
    "print(len(question_list))\n",
    "print(len(label_list))"
   ]
  },
  {
   "cell_type": "code",
   "execution_count": 24,
   "metadata": {},
   "outputs": [],
   "source": [
    "# make the data into dataframe\n",
    "import pandas as pd\n",
    "\n",
    "trainData = {\"name\":name_list, \"categoriesScore\":score_list, \"numOfTags\":numOfTags_list, \n",
    "        \"conOfDes\":conOfDes_list, \"tagCon\":tagCon_list, \"label\":label_list}\n",
    "column_name = ['name', 'categoriesScore', 'numOfTags', 'conOfDes', 'tagCon', 'label']\n",
    "\n",
    "trainData_df = pd.DataFrame(trainData, columns=column_name)"
   ]
  },
  {
   "cell_type": "code",
   "execution_count": 25,
   "metadata": {},
   "outputs": [
    {
     "data": {
      "text/html": [
       "<div>\n",
       "<style scoped>\n",
       "    .dataframe tbody tr th:only-of-type {\n",
       "        vertical-align: middle;\n",
       "    }\n",
       "\n",
       "    .dataframe tbody tr th {\n",
       "        vertical-align: top;\n",
       "    }\n",
       "\n",
       "    .dataframe thead th {\n",
       "        text-align: right;\n",
       "    }\n",
       "</style>\n",
       "<table border=\"1\" class=\"dataframe\">\n",
       "  <thead>\n",
       "    <tr style=\"text-align: right;\">\n",
       "      <th></th>\n",
       "      <th>name</th>\n",
       "      <th>categoriesScore</th>\n",
       "      <th>numOfTags</th>\n",
       "      <th>conOfDes</th>\n",
       "      <th>tagCon</th>\n",
       "      <th>label</th>\n",
       "    </tr>\n",
       "  </thead>\n",
       "  <tbody>\n",
       "    <tr>\n",
       "      <th>0</th>\n",
       "      <td>VizWiz_train_000000000000.jpg</td>\n",
       "      <td>0.007812</td>\n",
       "      <td>13</td>\n",
       "      <td>0.740801</td>\n",
       "      <td>0.983104</td>\n",
       "      <td>1</td>\n",
       "    </tr>\n",
       "    <tr>\n",
       "      <th>1</th>\n",
       "      <td>VizWiz_train_000000000001.jpg</td>\n",
       "      <td>0.289062</td>\n",
       "      <td>23</td>\n",
       "      <td>0.260836</td>\n",
       "      <td>0.991428</td>\n",
       "      <td>1</td>\n",
       "    </tr>\n",
       "    <tr>\n",
       "      <th>2</th>\n",
       "      <td>VizWiz_train_000000000002.jpg</td>\n",
       "      <td>0.019531</td>\n",
       "      <td>13</td>\n",
       "      <td>0.745821</td>\n",
       "      <td>0.417522</td>\n",
       "      <td>1</td>\n",
       "    </tr>\n",
       "    <tr>\n",
       "      <th>3</th>\n",
       "      <td>VizWiz_train_000000000003.jpg</td>\n",
       "      <td>0.023438</td>\n",
       "      <td>2</td>\n",
       "      <td>0.957625</td>\n",
       "      <td>0.999197</td>\n",
       "      <td>1</td>\n",
       "    </tr>\n",
       "    <tr>\n",
       "      <th>4</th>\n",
       "      <td>VizWiz_train_000000000006.jpg</td>\n",
       "      <td>0.003906</td>\n",
       "      <td>11</td>\n",
       "      <td>0.746603</td>\n",
       "      <td>0.974059</td>\n",
       "      <td>1</td>\n",
       "    </tr>\n",
       "  </tbody>\n",
       "</table>\n",
       "</div>"
      ],
      "text/plain": [
       "                            name  categoriesScore  numOfTags  conOfDes  \\\n",
       "0  VizWiz_train_000000000000.jpg         0.007812         13  0.740801   \n",
       "1  VizWiz_train_000000000001.jpg         0.289062         23  0.260836   \n",
       "2  VizWiz_train_000000000002.jpg         0.019531         13  0.745821   \n",
       "3  VizWiz_train_000000000003.jpg         0.023438          2  0.957625   \n",
       "4  VizWiz_train_000000000006.jpg         0.003906         11  0.746603   \n",
       "\n",
       "     tagCon  label  \n",
       "0  0.983104      1  \n",
       "1  0.991428      1  \n",
       "2  0.417522      1  \n",
       "3  0.999197      1  \n",
       "4  0.974059      1  "
      ]
     },
     "execution_count": 25,
     "metadata": {},
     "output_type": "execute_result"
    }
   ],
   "source": [
    "trainData_df.head()"
   ]
  },
  {
   "cell_type": "code",
   "execution_count": 27,
   "metadata": {},
   "outputs": [],
   "source": [
    "trainData_df.to_csv('trainning_data.csv')"
   ]
  },
  {
   "cell_type": "code",
   "execution_count": 31,
   "metadata": {},
   "outputs": [
    {
     "data": {
      "text/html": [
       "<div>\n",
       "<style scoped>\n",
       "    .dataframe tbody tr th:only-of-type {\n",
       "        vertical-align: middle;\n",
       "    }\n",
       "\n",
       "    .dataframe tbody tr th {\n",
       "        vertical-align: top;\n",
       "    }\n",
       "\n",
       "    .dataframe thead th {\n",
       "        text-align: right;\n",
       "    }\n",
       "</style>\n",
       "<table border=\"1\" class=\"dataframe\">\n",
       "  <thead>\n",
       "    <tr style=\"text-align: right;\">\n",
       "      <th></th>\n",
       "      <th>name</th>\n",
       "      <th>description</th>\n",
       "    </tr>\n",
       "  </thead>\n",
       "  <tbody>\n",
       "    <tr>\n",
       "      <th>0</th>\n",
       "      <td>VizWiz_train_000000000000.jpg</td>\n",
       "      <td>{'categories': [{'name': 'others_', 'score': 0...</td>\n",
       "    </tr>\n",
       "    <tr>\n",
       "      <th>1</th>\n",
       "      <td>VizWiz_train_000000000001.jpg</td>\n",
       "      <td>{'categories': [{'name': 'others_', 'score': 0...</td>\n",
       "    </tr>\n",
       "    <tr>\n",
       "      <th>2</th>\n",
       "      <td>VizWiz_train_000000000002.jpg</td>\n",
       "      <td>{'categories': [{'name': 'others_', 'score': 0...</td>\n",
       "    </tr>\n",
       "    <tr>\n",
       "      <th>3</th>\n",
       "      <td>VizWiz_train_000000000003.jpg</td>\n",
       "      <td>{'categories': [{'name': 'others_', 'score': 0...</td>\n",
       "    </tr>\n",
       "    <tr>\n",
       "      <th>4</th>\n",
       "      <td>VizWiz_train_000000000006.jpg</td>\n",
       "      <td>{'categories': [{'name': 'others_', 'score': 0...</td>\n",
       "    </tr>\n",
       "  </tbody>\n",
       "</table>\n",
       "</div>"
      ],
      "text/plain": [
       "                            name  \\\n",
       "0  VizWiz_train_000000000000.jpg   \n",
       "1  VizWiz_train_000000000001.jpg   \n",
       "2  VizWiz_train_000000000002.jpg   \n",
       "3  VizWiz_train_000000000003.jpg   \n",
       "4  VizWiz_train_000000000006.jpg   \n",
       "\n",
       "                                         description  \n",
       "0  {'categories': [{'name': 'others_', 'score': 0...  \n",
       "1  {'categories': [{'name': 'others_', 'score': 0...  \n",
       "2  {'categories': [{'name': 'others_', 'score': 0...  \n",
       "3  {'categories': [{'name': 'others_', 'score': 0...  \n",
       "4  {'categories': [{'name': 'others_', 'score': 0...  "
      ]
     },
     "execution_count": 31,
     "metadata": {},
     "output_type": "execute_result"
    }
   ],
   "source": [
    "# For future use of the description, save the description\n",
    "descriptionData = {\"name\":name_list, \"description\":description_list}\n",
    "description_df = pd.DataFrame(descriptionData, columns=['name','description'])\n",
    "description_df.head()"
   ]
  },
  {
   "cell_type": "code",
   "execution_count": 32,
   "metadata": {},
   "outputs": [],
   "source": [
    "description_df.to_csv('description_data.csv')"
   ]
  },
  {
   "cell_type": "code",
   "execution_count": 35,
   "metadata": {},
   "outputs": [
    {
     "data": {
      "text/html": [
       "<div>\n",
       "<style scoped>\n",
       "    .dataframe tbody tr th:only-of-type {\n",
       "        vertical-align: middle;\n",
       "    }\n",
       "\n",
       "    .dataframe tbody tr th {\n",
       "        vertical-align: top;\n",
       "    }\n",
       "\n",
       "    .dataframe thead th {\n",
       "        text-align: right;\n",
       "    }\n",
       "</style>\n",
       "<table border=\"1\" class=\"dataframe\">\n",
       "  <thead>\n",
       "    <tr style=\"text-align: right;\">\n",
       "      <th></th>\n",
       "      <th>categoriesScore</th>\n",
       "      <th>numOfTags</th>\n",
       "      <th>conOfDes</th>\n",
       "      <th>tagCon</th>\n",
       "      <th>label</th>\n",
       "    </tr>\n",
       "    <tr>\n",
       "      <th>name</th>\n",
       "      <th></th>\n",
       "      <th></th>\n",
       "      <th></th>\n",
       "      <th></th>\n",
       "      <th></th>\n",
       "    </tr>\n",
       "  </thead>\n",
       "  <tbody>\n",
       "    <tr>\n",
       "      <th>VizWiz_train_000000000000.jpg</th>\n",
       "      <td>0.007812</td>\n",
       "      <td>13</td>\n",
       "      <td>0.740801</td>\n",
       "      <td>0.983104</td>\n",
       "      <td>1</td>\n",
       "    </tr>\n",
       "    <tr>\n",
       "      <th>VizWiz_train_000000000001.jpg</th>\n",
       "      <td>0.289062</td>\n",
       "      <td>23</td>\n",
       "      <td>0.260836</td>\n",
       "      <td>0.991428</td>\n",
       "      <td>1</td>\n",
       "    </tr>\n",
       "    <tr>\n",
       "      <th>VizWiz_train_000000000002.jpg</th>\n",
       "      <td>0.019531</td>\n",
       "      <td>13</td>\n",
       "      <td>0.745821</td>\n",
       "      <td>0.417522</td>\n",
       "      <td>1</td>\n",
       "    </tr>\n",
       "    <tr>\n",
       "      <th>VizWiz_train_000000000003.jpg</th>\n",
       "      <td>0.023438</td>\n",
       "      <td>2</td>\n",
       "      <td>0.957625</td>\n",
       "      <td>0.999197</td>\n",
       "      <td>1</td>\n",
       "    </tr>\n",
       "    <tr>\n",
       "      <th>VizWiz_train_000000000006.jpg</th>\n",
       "      <td>0.003906</td>\n",
       "      <td>11</td>\n",
       "      <td>0.746603</td>\n",
       "      <td>0.974059</td>\n",
       "      <td>1</td>\n",
       "    </tr>\n",
       "  </tbody>\n",
       "</table>\n",
       "</div>"
      ],
      "text/plain": [
       "                               categoriesScore  numOfTags  conOfDes    tagCon  \\\n",
       "name                                                                            \n",
       "VizWiz_train_000000000000.jpg         0.007812         13  0.740801  0.983104   \n",
       "VizWiz_train_000000000001.jpg         0.289062         23  0.260836  0.991428   \n",
       "VizWiz_train_000000000002.jpg         0.019531         13  0.745821  0.417522   \n",
       "VizWiz_train_000000000003.jpg         0.023438          2  0.957625  0.999197   \n",
       "VizWiz_train_000000000006.jpg         0.003906         11  0.746603  0.974059   \n",
       "\n",
       "                               label  \n",
       "name                                  \n",
       "VizWiz_train_000000000000.jpg      1  \n",
       "VizWiz_train_000000000001.jpg      1  \n",
       "VizWiz_train_000000000002.jpg      1  \n",
       "VizWiz_train_000000000003.jpg      1  \n",
       "VizWiz_train_000000000006.jpg      1  "
      ]
     },
     "execution_count": 35,
     "metadata": {},
     "output_type": "execute_result"
    }
   ],
   "source": [
    "trainData_df = trainData_df.set_index('name')\n",
    "trainData_df.head()"
   ]
  },
  {
   "cell_type": "code",
   "execution_count": 36,
   "metadata": {},
   "outputs": [
    {
     "name": "stdout",
     "output_type": "stream",
     "text": [
      "(1956, 4) (489, 4) (1956,) (489,)\n"
     ]
    }
   ],
   "source": [
    "# Now we begin to split the trainning dataset and build the model to predict\n",
    "# spliting training set into 80/20 training and validation set\n",
    "from sklearn.model_selection import train_test_split\n",
    "\n",
    "train_features = trainData_df.drop(['label'],axis=1)\n",
    "train_target = trainData_df['label']\n",
    "\n",
    "X_train, X_test,y_train,y_test = train_test_split(train_features, train_target, test_size=0.2, random_state=42)\n",
    "\n",
    "print(X_train.shape, X_test.shape, y_train.shape, y_test.shape)"
   ]
  },
  {
   "cell_type": "code",
   "execution_count": 54,
   "metadata": {},
   "outputs": [],
   "source": [
    "import warnings\n",
    "warnings.filterwarnings('ignore')"
   ]
  },
  {
   "cell_type": "code",
   "execution_count": 55,
   "metadata": {},
   "outputs": [
    {
     "data": {
      "text/plain": [
       "0.7157464212678937"
      ]
     },
     "execution_count": 55,
     "metadata": {},
     "output_type": "execute_result"
    }
   ],
   "source": [
    "from sklearn.svm import LinearSVC\n",
    "\n",
    "svm_clf = LinearSVC()\n",
    "svm_clf.fit(X_train, y_train)\n",
    "accuracy = svm_clf.score(X_test, y_test)\n",
    "accuracy"
   ]
  },
  {
   "cell_type": "code",
   "execution_count": 56,
   "metadata": {},
   "outputs": [
    {
     "data": {
      "text/plain": [
       "0.721881390593047"
      ]
     },
     "execution_count": 56,
     "metadata": {},
     "output_type": "execute_result"
    }
   ],
   "source": [
    "#train logistics\n",
    "from sklearn.linear_model import LogisticRegression\n",
    "from sklearn.metrics import accuracy_score\n",
    "\n",
    "logreg = LogisticRegression()\n",
    "logreg.fit(X_train, y_train)\n",
    "logreg.score(X_test, y_test)\n",
    "# y_pred = logreg.predict(X_test)\n",
    "\n",
    "# print(accuracy_score(y_pred, y_test))"
   ]
  },
  {
   "cell_type": "code",
   "execution_count": 65,
   "metadata": {},
   "outputs": [
    {
     "data": {
      "text/plain": [
       "0.6871165644171779"
      ]
     },
     "execution_count": 65,
     "metadata": {},
     "output_type": "execute_result"
    }
   ],
   "source": [
    "gauss = GaussianNB()\n",
    "gauss.fit(X_train, y_train)\n",
    "gauss.score(X_test, y_test)"
   ]
  },
  {
   "cell_type": "code",
   "execution_count": 57,
   "metadata": {
    "scrolled": true
   },
   "outputs": [
    {
     "data": {
      "text/plain": [
       "0.7116588173731031"
      ]
     },
     "execution_count": 57,
     "metadata": {},
     "output_type": "execute_result"
    }
   ],
   "source": [
    "#Majority vote\n",
    "from sklearn.naive_bayes import GaussianNB\n",
    "from sklearn.ensemble import VotingClassifier\n",
    "from sklearn.model_selection import cross_val_score\n",
    "\n",
    "clf1 = LogisticRegression()\n",
    "clf2 = GaussianNB()\n",
    "clf3 = LinearSVC()\n",
    "eclf = VotingClassifier(estimators=[('lr',clf1),('gnb',clf2),('svm',clf3)], voting='hard')\n",
    "scores = cross_val_score(eclf, X_train, y_train , cv=10)\n",
    "scores.mean()"
   ]
  },
  {
   "cell_type": "code",
   "execution_count": 58,
   "metadata": {},
   "outputs": [
    {
     "data": {
      "text/plain": [
       "0.7136996336996337"
      ]
     },
     "execution_count": 58,
     "metadata": {},
     "output_type": "execute_result"
    }
   ],
   "source": [
    "#Bagging\n",
    "from sklearn.ensemble import BaggingClassifier\n",
    "\n",
    "bagging = BaggingClassifier(clf1)\n",
    "scores = cross_val_score(bagging, X_train, y_train, cv=10)\n",
    "scores.mean()"
   ]
  },
  {
   "cell_type": "code",
   "execution_count": 59,
   "metadata": {},
   "outputs": [
    {
     "data": {
      "text/plain": [
       "0.6687222715173025"
      ]
     },
     "execution_count": 59,
     "metadata": {},
     "output_type": "execute_result"
    }
   ],
   "source": [
    "#Adaboost algorithm\n",
    "from sklearn.ensemble import AdaBoostClassifier\n",
    "\n",
    "clf = AdaBoostClassifier(n_estimators = 1000)\n",
    "scores = cross_val_score(clf, X_train, y_train, cv=5)\n",
    "scores.mean()"
   ]
  },
  {
   "cell_type": "code",
   "execution_count": 62,
   "metadata": {},
   "outputs": [
    {
     "name": "stdout",
     "output_type": "stream",
     "text": [
      "0.7177914110429447\n"
     ]
    }
   ],
   "source": [
    "# Instantiate Perceptron\n",
    "from sklearn.linear_model import Perceptron\n",
    "\n",
    "clf = Perceptron(random_state=0, max_iter=2)\n",
    "clf.fit(X_train, y_train)\n",
    "score = clf.score(X_test, y_test)\n",
    "print(score)"
   ]
  },
  {
   "cell_type": "code",
   "execution_count": 61,
   "metadata": {},
   "outputs": [
    {
     "data": {
      "text/plain": [
       "Text(0.5, 1.0, 'Imapvt of Training')"
      ]
     },
     "execution_count": 61,
     "metadata": {},
     "output_type": "execute_result"
    },
    {
     "data": {
      "image/png": "[encoded data removed]",
      "text/plain": [
       "<Figure size 432x288 with 1 Axes>"
      ]
     },
     "metadata": {
      "needs_background": "light"
     },
     "output_type": "display_data"
    }
   ],
   "source": [
    "# Visualize impact of the number of training epochs on the prediction accuracy\n",
    "import matplotlib.pyplot as plt\n",
    "\n",
    "%matplotlib inline\n",
    "\n",
    "startNumEpochs = 1\n",
    "finishNumEpochs = 10\n",
    "incrementAmt = 1\n",
    "predScores = []\n",
    "numEpochs = []\n",
    "for epochCount in range(startNumEpochs, finishNumEpochs, incrementAmt):\n",
    "    clf = Perceptron(random_state=0, max_iter=epochCount)\n",
    "    clf.fit(X_train, y_train)\n",
    "    score = clf.score(X_train, y_train)\n",
    "    numEpochs.append(epochCount)\n",
    "    predScores.append(score)\n",
    "    \n",
    "plt.plot(numEpochs, predScores, \"r-+\", linewidth=2)\n",
    "plt.xlabel(\"Number of Epochs\")\n",
    "plt.ylabel(\"Accuracy\")\n",
    "plt.title(\"Imapvt of Training\")"
   ]
  },
  {
   "cell_type": "code",
   "execution_count": 70,
   "metadata": {},
   "outputs": [
    {
     "data": {
      "text/plain": [
       "0.721881390593047"
      ]
     },
     "execution_count": 70,
     "metadata": {},
     "output_type": "execute_result"
    }
   ],
   "source": [
    "# prediction using PCA\n",
    "from sklearn.decomposition import PCA\n",
    "\n",
    "pca = PCA(n_components = 2)\n",
    "pca.fit(X_train)\n",
    "X_train_reduced = pca.transform(X_train)\n",
    "X_test_reduced = pca.transform(X_test)\n",
    "\n",
    "model = GaussianNB()\n",
    "model.fit(X_train_reduced, y_train)\n",
    "model.score(X_test_reduced, y_test)"
   ]
  },
  {
   "cell_type": "code",
   "execution_count": 71,
   "metadata": {},
   "outputs": [
    {
     "data": {
      "text/plain": [
       "0.721881390593047"
      ]
     },
     "execution_count": 71,
     "metadata": {},
     "output_type": "execute_result"
    }
   ],
   "source": [
    "model = LogisticRegression()\n",
    "model.fit(X_train_reduced, y_train)\n",
    "model.score(X_test_reduced, y_test)"
   ]
  },
  {
   "cell_type": "code",
   "execution_count": 76,
   "metadata": {},
   "outputs": [
    {
     "data": {
      "text/plain": [
       "0.721881390593047"
      ]
     },
     "execution_count": 76,
     "metadata": {},
     "output_type": "execute_result"
    }
   ],
   "source": [
    "model = LinearSVC()\n",
    "model.fit(X_train_reduced, y_train)\n",
    "model.score(X_test_reduced, y_test)"
   ]
  },
  {
   "cell_type": "code",
   "execution_count": 73,
   "metadata": {},
   "outputs": [],
   "source": [
    "# standardization\n",
    "from sklearn.preprocessing import StandardScaler\n",
    "\n",
    "stdsc = StandardScaler()\n",
    "stdsc = stdsc.fit(X_train)\n",
    "X_train_std = stdsc.transform(X_train)\n",
    "X_test_std = stdsc.transform(X_test)"
   ]
  },
  {
   "cell_type": "code",
   "execution_count": 74,
   "metadata": {},
   "outputs": [
    {
     "data": {
      "text/plain": [
       "0.721881390593047"
      ]
     },
     "execution_count": 74,
     "metadata": {},
     "output_type": "execute_result"
    }
   ],
   "source": [
    "model = LogisticRegression()\n",
    "model.fit(X_train_std, y_train)\n",
    "model.score(X_test_std, y_test)"
   ]
  },
  {
   "cell_type": "code",
   "execution_count": 75,
   "metadata": {},
   "outputs": [
    {
     "data": {
      "text/plain": [
       "0.6871165644171779"
      ]
     },
     "execution_count": 75,
     "metadata": {},
     "output_type": "execute_result"
    }
   ],
   "source": [
    "model = GaussianNB()\n",
    "model.fit(X_train_std, y_train)\n",
    "model.score(X_test_std, y_test)"
   ]
  },
  {
   "cell_type": "code",
   "execution_count": 77,
   "metadata": {},
   "outputs": [
    {
     "data": {
      "text/plain": [
       "0.721881390593047"
      ]
     },
     "execution_count": 77,
     "metadata": {},
     "output_type": "execute_result"
    }
   ],
   "source": [
    "model = LinearSVC()\n",
    "model.fit(X_train_std, y_train)\n",
    "model.score(X_test_std, y_test)"
   ]
  },
  {
   "cell_type": "code",
   "execution_count": 41,
   "metadata": {},
   "outputs": [
    {
     "name": "stderr",
     "output_type": "stream",
     "text": [
      "100%|██████████| 100/100 [02:18<00:00,  1.28s/it]\n"
     ]
    }
   ],
   "source": [
    "# get the test data set\n",
    "test_score_list = []\n",
    "test_numOfTags_list = []\n",
    "test_conOfDes_list = []\n",
    "test_tagCon_list = []\n",
    "test_description_list = []\n",
    "test_name_list = []\n",
    "test_question_list = []\n",
    "test_label_list = []\n",
    "test_error_list = []\n",
    "\n",
    "numTestVQs = 200\n",
    "testingData = testData.json()\n",
    "params = {'visualfeatures': 'Description,Color,Tags,Categories,ImageType'}\n",
    "for vq in tqdm.tqdm(testingData[100:numTestVQs]):\n",
    "    image_name = vq['image']\n",
    "    try:\n",
    "        question = vq['question']\n",
    "\n",
    "        img_url = img_dir+image_name\n",
    "        data = {'url':img_url}\n",
    "        response = requests.post(vision_api_url, headers=headers, params=params, json=data)\n",
    "        description = response.json()\n",
    "\n",
    "        score = description['categories'][0]['score']\n",
    "        numOfTags = len(description['description']['tags'])\n",
    "        conOfDes = description['description']['captions'][0]['confidence']\n",
    "        tagCon = description['tags'][0]['confidence']\n",
    "\n",
    "        test_score_list.append(score)\n",
    "        test_numOfTags_list.append(numOfTags)\n",
    "        test_conOfDes_list.append(conOfDes)\n",
    "        test_tagCon_list.append(tagCon)\n",
    "        test_description_list.append(description)\n",
    "        test_name_list.append(image_name)\n",
    "        test_question_list.append(question)\n",
    "        \n",
    "    except:\n",
    "        test_error_list.append(image_name)"
   ]
  },
  {
   "cell_type": "code",
   "execution_count": 53,
   "metadata": {},
   "outputs": [
    {
     "data": {
      "text/plain": [
       "['VizWiz_test_000000020100.jpg',\n",
       " 'VizWiz_test_000000020109.jpg',\n",
       " 'VizWiz_test_000000020120.jpg',\n",
       " 'VizWiz_test_000000020122.jpg',\n",
       " 'VizWiz_test_000000020131.jpg',\n",
       " 'VizWiz_test_000000020136.jpg',\n",
       " 'VizWiz_test_000000020142.jpg',\n",
       " 'VizWiz_test_000000020145.jpg',\n",
       " 'VizWiz_test_000000020148.jpg',\n",
       " 'VizWiz_test_000000020155.jpg',\n",
       " 'VizWiz_test_000000020160.jpg',\n",
       " 'VizWiz_test_000000020163.jpg',\n",
       " 'VizWiz_test_000000020187.jpg',\n",
       " 'VizWiz_test_000000020191.jpg',\n",
       " 'VizWiz_test_000000020195.jpg']"
      ]
     },
     "execution_count": 53,
     "metadata": {},
     "output_type": "execute_result"
    }
   ],
   "source": [
    "test_error_list"
   ]
  },
  {
   "cell_type": "code",
   "execution_count": 78,
   "metadata": {},
   "outputs": [
    {
     "name": "stderr",
     "output_type": "stream",
     "text": [
      "100%|██████████| 100/100 [02:13<00:00,  1.34s/it]\n"
     ]
    }
   ],
   "source": [
    "test_description_list = []\n",
    "test_question_list = []\n",
    "test_name_list = []\n",
    "\n",
    "numTestVQs = 200\n",
    "testingData = testData.json()\n",
    "params = {'visualfeatures': 'Description,Color,Tags,Categories,ImageType'}\n",
    "for vq in tqdm.tqdm(testingData[100:numTestVQs]):\n",
    "    \n",
    "    image_name = vq['image']\n",
    "    test_name_list.append(image_name)\n",
    "    question = vq['question']\n",
    "    test_question_list.append(question)\n",
    "\n",
    "    img_url = img_dir+image_name\n",
    "    data = {'url':img_url}\n",
    "    response = requests.post(vision_api_url, headers=headers, params=params, json=data)\n",
    "    description = response.json()\n",
    "    test_description_list.append(description)"
   ]
  },
  {
   "cell_type": "code",
   "execution_count": 80,
   "metadata": {
    "scrolled": true
   },
   "outputs": [
    {
     "data": {
      "text/html": [
       "<div>\n",
       "<style scoped>\n",
       "    .dataframe tbody tr th:only-of-type {\n",
       "        vertical-align: middle;\n",
       "    }\n",
       "\n",
       "    .dataframe tbody tr th {\n",
       "        vertical-align: top;\n",
       "    }\n",
       "\n",
       "    .dataframe thead th {\n",
       "        text-align: right;\n",
       "    }\n",
       "</style>\n",
       "<table border=\"1\" class=\"dataframe\">\n",
       "  <thead>\n",
       "    <tr style=\"text-align: right;\">\n",
       "      <th></th>\n",
       "      <th>name</th>\n",
       "      <th>description</th>\n",
       "    </tr>\n",
       "  </thead>\n",
       "  <tbody>\n",
       "    <tr>\n",
       "      <th>0</th>\n",
       "      <td>VizWiz_test_000000020100.jpg</td>\n",
       "      <td>{'categories': [{'name': 'abstract_', 'score':...</td>\n",
       "    </tr>\n",
       "    <tr>\n",
       "      <th>1</th>\n",
       "      <td>VizWiz_test_000000020101.jpg</td>\n",
       "      <td>{'categories': [{'name': 'abstract_', 'score':...</td>\n",
       "    </tr>\n",
       "    <tr>\n",
       "      <th>2</th>\n",
       "      <td>VizWiz_test_000000020102.jpg</td>\n",
       "      <td>{'categories': [{'name': 'others_', 'score': 0...</td>\n",
       "    </tr>\n",
       "    <tr>\n",
       "      <th>3</th>\n",
       "      <td>VizWiz_test_000000020103.jpg</td>\n",
       "      <td>{'categories': [{'name': 'abstract_', 'score':...</td>\n",
       "    </tr>\n",
       "    <tr>\n",
       "      <th>4</th>\n",
       "      <td>VizWiz_test_000000020104.jpg</td>\n",
       "      <td>{'categories': [{'name': 'dark_light', 'score'...</td>\n",
       "    </tr>\n",
       "  </tbody>\n",
       "</table>\n",
       "</div>"
      ],
      "text/plain": [
       "                           name  \\\n",
       "0  VizWiz_test_000000020100.jpg   \n",
       "1  VizWiz_test_000000020101.jpg   \n",
       "2  VizWiz_test_000000020102.jpg   \n",
       "3  VizWiz_test_000000020103.jpg   \n",
       "4  VizWiz_test_000000020104.jpg   \n",
       "\n",
       "                                         description  \n",
       "0  {'categories': [{'name': 'abstract_', 'score':...  \n",
       "1  {'categories': [{'name': 'abstract_', 'score':...  \n",
       "2  {'categories': [{'name': 'others_', 'score': 0...  \n",
       "3  {'categories': [{'name': 'abstract_', 'score':...  \n",
       "4  {'categories': [{'name': 'dark_light', 'score'...  "
      ]
     },
     "execution_count": 80,
     "metadata": {},
     "output_type": "execute_result"
    }
   ],
   "source": [
    "# we have to get all the record, so we need to do something else.\n",
    "descriptionData = {\"name\":test_name_list, \"description\":test_description_list}\n",
    "description_df = pd.DataFrame(descriptionData, columns=['name','description'])\n",
    "description_df.head()"
   ]
  },
  {
   "cell_type": "code",
   "execution_count": 85,
   "metadata": {
    "scrolled": true
   },
   "outputs": [
    {
     "data": {
      "text/plain": [
       "100"
      ]
     },
     "execution_count": 85,
     "metadata": {},
     "output_type": "execute_result"
    }
   ],
   "source": [
    "len(description_df)"
   ]
  },
  {
   "cell_type": "code",
   "execution_count": 92,
   "metadata": {},
   "outputs": [],
   "source": [
    "test_score_list = []\n",
    "test_numOfTags_list = []\n",
    "test_conOfDes_list = []\n",
    "test_tagCon_list = []\n",
    "\n",
    "for index, description in description_df.iterrows():\n",
    "    try:\n",
    "        score = description['description']['categories'][0]['score']\n",
    "    except:\n",
    "        score = None\n",
    "    try:\n",
    "        numOfTags = len(description['description']['description']['tags'])\n",
    "    except:\n",
    "        numOfTags = None\n",
    "    try:\n",
    "        conOfDes = description['description']['description']['captions'][0]['confidence']\n",
    "    except:\n",
    "        conOfDes = None\n",
    "    try:\n",
    "        tagCon = description['description']['tags'][0]['confidence']\n",
    "    except:\n",
    "        tagCon = None\n",
    "\n",
    "    test_score_list.append(score)\n",
    "    test_numOfTags_list.append(numOfTags)\n",
    "    test_conOfDes_list.append(conOfDes)\n",
    "    test_tagCon_list.append(tagCon)"
   ]
  },
  {
   "cell_type": "code",
   "execution_count": 93,
   "metadata": {},
   "outputs": [
    {
     "data": {
      "text/plain": [
       "100"
      ]
     },
     "execution_count": 93,
     "metadata": {},
     "output_type": "execute_result"
    }
   ],
   "source": [
    "len(test_score_list)"
   ]
  },
  {
   "cell_type": "code",
   "execution_count": 98,
   "metadata": {
    "scrolled": true
   },
   "outputs": [
    {
     "data": {
      "text/html": [
       "<div>\n",
       "<style scoped>\n",
       "    .dataframe tbody tr th:only-of-type {\n",
       "        vertical-align: middle;\n",
       "    }\n",
       "\n",
       "    .dataframe tbody tr th {\n",
       "        vertical-align: top;\n",
       "    }\n",
       "\n",
       "    .dataframe thead th {\n",
       "        text-align: right;\n",
       "    }\n",
       "</style>\n",
       "<table border=\"1\" class=\"dataframe\">\n",
       "  <thead>\n",
       "    <tr style=\"text-align: right;\">\n",
       "      <th></th>\n",
       "      <th>name</th>\n",
       "      <th>categoriesScore</th>\n",
       "      <th>numOfTags</th>\n",
       "      <th>conOfDes</th>\n",
       "      <th>tagCon</th>\n",
       "    </tr>\n",
       "  </thead>\n",
       "  <tbody>\n",
       "    <tr>\n",
       "      <th>0</th>\n",
       "      <td>VizWiz_test_000000020100.jpg</td>\n",
       "      <td>0.007812</td>\n",
       "      <td>14</td>\n",
       "      <td>NaN</td>\n",
       "      <td>0.991867</td>\n",
       "    </tr>\n",
       "    <tr>\n",
       "      <th>1</th>\n",
       "      <td>VizWiz_test_000000020101.jpg</td>\n",
       "      <td>0.078125</td>\n",
       "      <td>3</td>\n",
       "      <td>0.720613</td>\n",
       "      <td>0.298577</td>\n",
       "    </tr>\n",
       "    <tr>\n",
       "      <th>2</th>\n",
       "      <td>VizWiz_test_000000020102.jpg</td>\n",
       "      <td>0.003906</td>\n",
       "      <td>11</td>\n",
       "      <td>0.702244</td>\n",
       "      <td>0.943276</td>\n",
       "    </tr>\n",
       "    <tr>\n",
       "      <th>3</th>\n",
       "      <td>VizWiz_test_000000020103.jpg</td>\n",
       "      <td>0.011719</td>\n",
       "      <td>11</td>\n",
       "      <td>0.437640</td>\n",
       "      <td>0.132441</td>\n",
       "    </tr>\n",
       "    <tr>\n",
       "      <th>4</th>\n",
       "      <td>VizWiz_test_000000020104.jpg</td>\n",
       "      <td>0.285156</td>\n",
       "      <td>30</td>\n",
       "      <td>0.894849</td>\n",
       "      <td>0.999641</td>\n",
       "    </tr>\n",
       "  </tbody>\n",
       "</table>\n",
       "</div>"
      ],
      "text/plain": [
       "                           name  categoriesScore  numOfTags  conOfDes  \\\n",
       "0  VizWiz_test_000000020100.jpg         0.007812         14       NaN   \n",
       "1  VizWiz_test_000000020101.jpg         0.078125          3  0.720613   \n",
       "2  VizWiz_test_000000020102.jpg         0.003906         11  0.702244   \n",
       "3  VizWiz_test_000000020103.jpg         0.011719         11  0.437640   \n",
       "4  VizWiz_test_000000020104.jpg         0.285156         30  0.894849   \n",
       "\n",
       "     tagCon  \n",
       "0  0.991867  \n",
       "1  0.298577  \n",
       "2  0.943276  \n",
       "3  0.132441  \n",
       "4  0.999641  "
      ]
     },
     "execution_count": 98,
     "metadata": {},
     "output_type": "execute_result"
    }
   ],
   "source": [
    "# now we need to make all the testing data in a dataframe then suplement the missing data\n",
    "# acturally I should do the same thing for the trainging data, \n",
    "# however, I skip the missing traing data which has the missing data\n",
    "# and since it takes lots of time to run the Microsoft API again, I choose not to do that.\n",
    "testData = {\"name\":test_name_list, \"categoriesScore\":test_score_list, \"numOfTags\":test_numOfTags_list, \n",
    "        \"conOfDes\":test_conOfDes_list, \"tagCon\":test_tagCon_list}\n",
    "column_name = ['name', 'categoriesScore', 'numOfTags', 'conOfDes', 'tagCon']\n",
    "\n",
    "testData_df = pd.DataFrame(testData, columns=column_name)\n",
    "testData_df.head()"
   ]
  },
  {
   "cell_type": "code",
   "execution_count": 99,
   "metadata": {},
   "outputs": [
    {
     "data": {
      "text/html": [
       "<div>\n",
       "<style scoped>\n",
       "    .dataframe tbody tr th:only-of-type {\n",
       "        vertical-align: middle;\n",
       "    }\n",
       "\n",
       "    .dataframe tbody tr th {\n",
       "        vertical-align: top;\n",
       "    }\n",
       "\n",
       "    .dataframe thead th {\n",
       "        text-align: right;\n",
       "    }\n",
       "</style>\n",
       "<table border=\"1\" class=\"dataframe\">\n",
       "  <thead>\n",
       "    <tr style=\"text-align: right;\">\n",
       "      <th></th>\n",
       "      <th>categoriesScore</th>\n",
       "      <th>numOfTags</th>\n",
       "      <th>conOfDes</th>\n",
       "      <th>tagCon</th>\n",
       "    </tr>\n",
       "    <tr>\n",
       "      <th>name</th>\n",
       "      <th></th>\n",
       "      <th></th>\n",
       "      <th></th>\n",
       "      <th></th>\n",
       "    </tr>\n",
       "  </thead>\n",
       "  <tbody>\n",
       "    <tr>\n",
       "      <th>VizWiz_test_000000020100.jpg</th>\n",
       "      <td>0.007812</td>\n",
       "      <td>14</td>\n",
       "      <td>NaN</td>\n",
       "      <td>0.991867</td>\n",
       "    </tr>\n",
       "    <tr>\n",
       "      <th>VizWiz_test_000000020101.jpg</th>\n",
       "      <td>0.078125</td>\n",
       "      <td>3</td>\n",
       "      <td>0.720613</td>\n",
       "      <td>0.298577</td>\n",
       "    </tr>\n",
       "    <tr>\n",
       "      <th>VizWiz_test_000000020102.jpg</th>\n",
       "      <td>0.003906</td>\n",
       "      <td>11</td>\n",
       "      <td>0.702244</td>\n",
       "      <td>0.943276</td>\n",
       "    </tr>\n",
       "    <tr>\n",
       "      <th>VizWiz_test_000000020103.jpg</th>\n",
       "      <td>0.011719</td>\n",
       "      <td>11</td>\n",
       "      <td>0.437640</td>\n",
       "      <td>0.132441</td>\n",
       "    </tr>\n",
       "    <tr>\n",
       "      <th>VizWiz_test_000000020104.jpg</th>\n",
       "      <td>0.285156</td>\n",
       "      <td>30</td>\n",
       "      <td>0.894849</td>\n",
       "      <td>0.999641</td>\n",
       "    </tr>\n",
       "  </tbody>\n",
       "</table>\n",
       "</div>"
      ],
      "text/plain": [
       "                              categoriesScore  numOfTags  conOfDes    tagCon\n",
       "name                                                                        \n",
       "VizWiz_test_000000020100.jpg         0.007812         14       NaN  0.991867\n",
       "VizWiz_test_000000020101.jpg         0.078125          3  0.720613  0.298577\n",
       "VizWiz_test_000000020102.jpg         0.003906         11  0.702244  0.943276\n",
       "VizWiz_test_000000020103.jpg         0.011719         11  0.437640  0.132441\n",
       "VizWiz_test_000000020104.jpg         0.285156         30  0.894849  0.999641"
      ]
     },
     "execution_count": 99,
     "metadata": {},
     "output_type": "execute_result"
    }
   ],
   "source": [
    "testData_df = testData_df.set_index('name')\n",
    "testData_df.head()"
   ]
  },
  {
   "cell_type": "code",
   "execution_count": 100,
   "metadata": {},
   "outputs": [],
   "source": [
    "from sklearn.preprocessing import Imputer \n",
    "\n",
    "imputer = Imputer(strategy='median')\n",
    "imputer.fit(train_features)\n",
    "imputer.statistics_\n",
    "\n",
    "test_fixed = imputer.transform(testData_df)"
   ]
  },
  {
   "cell_type": "code",
   "execution_count": 103,
   "metadata": {},
   "outputs": [],
   "source": [
    "# now use the best model to predict\n",
    "logreg = LogisticRegression()\n",
    "logreg.fit(X_train, y_train)\n",
    "y_pred = logreg.predict(test_fixed)"
   ]
  },
  {
   "cell_type": "code",
   "execution_count": 104,
   "metadata": {},
   "outputs": [
    {
     "data": {
      "text/plain": [
       "array([1, 1, 1, 1, 1, 1, 1, 1, 1, 1, 1, 1, 1, 1, 1, 1, 1, 1, 1, 1, 1, 1,\n",
       "       1, 1, 1, 1, 1, 1, 1, 1, 1, 1, 1, 1, 1, 1, 1, 1, 1, 1, 1, 1, 1, 1,\n",
       "       1, 1, 1, 1, 1, 1, 1, 1, 1, 1, 1, 1, 1, 1, 1, 1, 1, 1, 1, 1, 1, 1,\n",
       "       1, 1, 1, 1, 1, 1, 1, 1, 1, 1, 1, 1, 1, 1, 1, 1, 1, 1, 1, 1, 1, 1,\n",
       "       1, 1, 1, 1, 1, 1, 1, 1, 1, 1, 1, 1])"
      ]
     },
     "execution_count": 104,
     "metadata": {},
     "output_type": "execute_result"
    }
   ],
   "source": [
    "y_pred"
   ]
  },
  {
   "cell_type": "markdown",
   "metadata": {},
   "source": [
    "O My God, I should got that before see the result because there are several models have the same result. The reason of this may because of the imblace of the data."
   ]
  },
  {
   "cell_type": "markdown",
   "metadata": {},
   "source": [
    "Anyway, I will use this model. However, I think I have two ways to improve the performance of the prediction.  \n",
    "1. use more data to train the model\n",
    "2. use the balance data to train the model which means let the label 1 contains 50% of the trainning data."
   ]
  },
  {
   "cell_type": "code",
   "execution_count": 107,
   "metadata": {},
   "outputs": [],
   "source": [
    "import numpy\n",
    "\n",
    "numpy.savetxt(\"result.csv\", y_pred, delimiter=\",\")"
   ]
  },
  {
   "cell_type": "markdown",
   "metadata": {},
   "source": [
    "#### Write 2-3 paragraphs describing your proposed prediction method. Describe the implementation of your proposed approach in such a way that a    ####\n",
    "1) reader could reproduce your set-up and   \n",
    "2) understand why you made your design decisions.\n",
    "\n",
    "#### Write 2-3 paragraphs describing the analysis you conducted with the training and/or validation datasets that guided your choice for your prediction system design (e.g., hyperparameters, classification models, etc).####"
   ]
  },
  {
   "cell_type": "markdown",
   "metadata": {},
   "source": [
    "The first step is to prepare the data.  \n",
    "Then build and try different models. In this process, try some feature process like PCA and standardization.\n",
    "Choose the best model.  \n",
    "Get the test dataset. Predict with the best model."
   ]
  },
  {
   "cell_type": "markdown",
   "metadata": {},
   "source": [
    "In the first step, I choose four feature to make the prediction. Because:  \n",
    "    \n",
    "Personaly, I would like to assume that:  \n",
    "if the score of the category is high, then it will be easier to ansiwer.  \n",
    "if the confidence of the description is higher then it will be better.  \n",
    "more tags will be more eaiser  \n",
    "the higher the highest tag's confidence, it will be easier.  \n",
    "\n",
    "So, I will use the score of the category, the confidence of the description, the number of the tags and the tag's highest confidence to train the model."
   ]
  },
  {
   "cell_type": "markdown",
   "metadata": {},
   "source": [
    "Then get the wanted data using Microsoft API and then save the data into a dataframe.  \n",
    "Acturally, I should try more different features or get all the features and then use the greday method to choose the best features.  "
   ]
  },
  {
   "cell_type": "markdown",
   "metadata": {},
   "source": [
    "Then I try different models, and get several model with the same result, which means there must be somethins wrong with my prediction. From the prediction result, we could see that all the result was predicted as 1. As I said above, it may because of the imbalance of the data and I could try two different ways:  \n",
    "\n",
    "use more data to train the model  \n",
    "use the balance data to train the model which means let the label 1 contains 50% of the trainning data."
   ]
  },
  {
   "cell_type": "markdown",
   "metadata": {},
   "source": [
    "I use the accuracy as the only judging criteria. So, I just chose the model with the highest accuracy which is the mdoel that predict all result as 1. The other function I could image is use the confusion matrix, to see the reacll ans the precision of the result. However, I think for this problem, accuracy is enough."
   ]
  },
  {
   "cell_type": "code",
   "execution_count": 109,
   "metadata": {},
   "outputs": [],
   "source": [
    "# Load dataset and split into train/test\n",
    "from tensorflow.examples.tutorials.mnist import input_data"
   ]
  },
  {
   "cell_type": "code",
   "execution_count": 111,
   "metadata": {},
   "outputs": [
    {
     "name": "stdout",
     "output_type": "stream",
     "text": [
      "Automatically created module for IPython interactive environment\n",
      "Iteration 1, loss = 0.45142991\n",
      "Iteration 2, loss = 0.22341461\n",
      "Iteration 3, loss = 0.19756385\n",
      "Iteration 4, loss = 0.18552423\n",
      "Iteration 5, loss = 0.17541563\n",
      "Iteration 6, loss = 0.16726054\n",
      "Iteration 7, loss = 0.15808982\n",
      "Iteration 8, loss = 0.15654622\n",
      "Iteration 9, loss = 0.15063663\n",
      "Iteration 10, loss = 0.14582655\n",
      "Training set score: 0.958732\n",
      "Test set score: 0.946143\n"
     ]
    }
   ],
   "source": [
    "import matplotlib.pyplot as plt\n",
    "from sklearn.datasets import fetch_openml\n",
    "from sklearn.neural_network import MLPClassifier\n",
    "\n",
    "print(__doc__)\n",
    "\n",
    "# Load data from https://www.openml.org/d/554\n",
    "X, y = fetch_openml('mnist_784', version=1, return_X_y=True)\n",
    "X = X / 255.\n",
    "\n",
    "# rescale the data, use the traditional train/test split\n",
    "X_train, X_test,y_train,y_test = train_test_split(X, y, test_size=0.2, random_state=42)\n",
    "\n",
    "# mlp = MLPClassifier(hidden_layer_sizes=(100, 100), max_iter=400, alpha=1e-4,\n",
    "#                     solver='sgd', verbose=10, tol=1e-4, random_state=1)\n",
    "mlp = MLPClassifier(hidden_layer_sizes=(10,50), max_iter=10, alpha=1e-4,\n",
    "                    solver='sgd', verbose=10, tol=1e-4, random_state=1,\n",
    "                    learning_rate_init=.1)\n",
    "\n",
    "mlp.fit(X_train, y_train)\n",
    "print(\"Training set score: %f\" % mlp.score(X_train, y_train))\n",
    "print(\"Test set score: %f\" % mlp.score(X_test, y_test))"
   ]
  },
  {
   "cell_type": "code",
   "execution_count": 120,
   "metadata": {},
   "outputs": [],
   "source": [
    "def plotNeuronsAccuracy(hidden_layers=10, neurons=10):\n",
    "    training_accuracy = []\n",
    "    test_accuracy = []\n",
    "    neurons_settings = range(10,100,10)\n",
    "    for neurons in neurons_settings:\n",
    "        # build the model\n",
    "        mlp = MLPClassifier(hidden_layer_sizes=100, max_iter=neurons, alpha=1e-4,\n",
    "                    solver='sgd', verbose=10, tol=1e-4, random_state=1,\n",
    "                    learning_rate_init=.1)\n",
    "        mlp.fit(X_train, y_train)\n",
    "        # Record training set accuracy\n",
    "        curTrainAccuracy = mlp.score(X_train, y_train)\n",
    "        training_accuracy.append(curTrainAccuracy)\n",
    "        # Record test set accuracy\n",
    "        curTestAccuracy = mlp.score(X_test, y_test)\n",
    "        test_accuracy.append(curTestAccuracy)\n",
    "    plt.plot(neurons_settings, training_accuracy, label='Training accuracy')\n",
    "    plt.plot(neurons_settings, test_accuracy, label='Test accuracy')\n",
    "    plt.ylabel('Accuracy')\n",
    "    plt.xlabel('max iter')\n",
    "    plt.legend()"
   ]
  },
  {
   "cell_type": "code",
   "execution_count": 121,
   "metadata": {},
   "outputs": [
    {
     "name": "stdout",
     "output_type": "stream",
     "text": [
      "Iteration 1, loss = 0.30682385\n",
      "Iteration 2, loss = 0.12595328\n",
      "Iteration 3, loss = 0.08902409\n",
      "Iteration 4, loss = 0.06938852\n",
      "Iteration 5, loss = 0.05620847\n",
      "Iteration 6, loss = 0.04785777\n",
      "Iteration 7, loss = 0.03973063\n",
      "Iteration 8, loss = 0.03356148\n",
      "Iteration 9, loss = 0.02844355\n",
      "Iteration 10, loss = 0.02503001\n",
      "Iteration 1, loss = 0.30682385\n",
      "Iteration 2, loss = 0.12595328\n",
      "Iteration 3, loss = 0.08902409\n",
      "Iteration 4, loss = 0.06938852\n",
      "Iteration 5, loss = 0.05620847\n",
      "Iteration 6, loss = 0.04785777\n",
      "Iteration 7, loss = 0.03973063\n",
      "Iteration 8, loss = 0.03356148\n",
      "Iteration 9, loss = 0.02844355\n",
      "Iteration 10, loss = 0.02503001\n",
      "Iteration 11, loss = 0.02192181\n",
      "Iteration 12, loss = 0.01788878\n",
      "Iteration 13, loss = 0.01517539\n",
      "Iteration 14, loss = 0.01304166\n",
      "Iteration 15, loss = 0.01107030\n",
      "Iteration 16, loss = 0.00936810\n",
      "Iteration 17, loss = 0.00754326\n",
      "Iteration 18, loss = 0.00661261\n",
      "Iteration 19, loss = 0.00550325\n",
      "Iteration 20, loss = 0.00493291\n",
      "Iteration 1, loss = 0.30682385\n",
      "Iteration 2, loss = 0.12595328\n",
      "Iteration 3, loss = 0.08902409\n",
      "Iteration 4, loss = 0.06938852\n",
      "Iteration 5, loss = 0.05620847\n",
      "Iteration 6, loss = 0.04785777\n",
      "Iteration 7, loss = 0.03973063\n",
      "Iteration 8, loss = 0.03356148\n",
      "Iteration 9, loss = 0.02844355\n",
      "Iteration 10, loss = 0.02503001\n",
      "Iteration 11, loss = 0.02192181\n",
      "Iteration 12, loss = 0.01788878\n",
      "Iteration 13, loss = 0.01517539\n",
      "Iteration 14, loss = 0.01304166\n",
      "Iteration 15, loss = 0.01107030\n",
      "Iteration 16, loss = 0.00936810\n",
      "Iteration 17, loss = 0.00754326\n",
      "Iteration 18, loss = 0.00661261\n",
      "Iteration 19, loss = 0.00550325\n",
      "Iteration 20, loss = 0.00493291\n",
      "Iteration 21, loss = 0.00426748\n",
      "Iteration 22, loss = 0.00389386\n",
      "Iteration 23, loss = 0.00340565\n",
      "Iteration 24, loss = 0.00287904\n",
      "Iteration 25, loss = 0.00272057\n",
      "Iteration 26, loss = 0.00256841\n",
      "Iteration 27, loss = 0.00233401\n",
      "Iteration 28, loss = 0.00216807\n",
      "Iteration 29, loss = 0.00207178\n",
      "Iteration 30, loss = 0.00193313\n",
      "Iteration 1, loss = 0.30682385\n",
      "Iteration 2, loss = 0.12595328\n",
      "Iteration 3, loss = 0.08902409\n",
      "Iteration 4, loss = 0.06938852\n",
      "Iteration 5, loss = 0.05620847\n",
      "Iteration 6, loss = 0.04785777\n",
      "Iteration 7, loss = 0.03973063\n",
      "Iteration 8, loss = 0.03356148\n",
      "Iteration 9, loss = 0.02844355\n",
      "Iteration 10, loss = 0.02503001\n",
      "Iteration 11, loss = 0.02192181\n",
      "Iteration 12, loss = 0.01788878\n",
      "Iteration 13, loss = 0.01517539\n",
      "Iteration 14, loss = 0.01304166\n",
      "Iteration 15, loss = 0.01107030\n",
      "Iteration 16, loss = 0.00936810\n",
      "Iteration 17, loss = 0.00754326\n",
      "Iteration 18, loss = 0.00661261\n",
      "Iteration 19, loss = 0.00550325\n",
      "Iteration 20, loss = 0.00493291\n",
      "Iteration 21, loss = 0.00426748\n",
      "Iteration 22, loss = 0.00389386\n",
      "Iteration 23, loss = 0.00340565\n",
      "Iteration 24, loss = 0.00287904\n",
      "Iteration 25, loss = 0.00272057\n",
      "Iteration 26, loss = 0.00256841\n",
      "Iteration 27, loss = 0.00233401\n",
      "Iteration 28, loss = 0.00216807\n",
      "Iteration 29, loss = 0.00207178\n",
      "Iteration 30, loss = 0.00193313\n",
      "Iteration 31, loss = 0.00183402\n",
      "Iteration 32, loss = 0.00177023\n",
      "Iteration 33, loss = 0.00169157\n",
      "Iteration 34, loss = 0.00163802\n",
      "Iteration 35, loss = 0.00155253\n",
      "Iteration 36, loss = 0.00150040\n",
      "Iteration 37, loss = 0.00144313\n",
      "Iteration 38, loss = 0.00140063\n",
      "Iteration 39, loss = 0.00135866\n",
      "Iteration 40, loss = 0.00130977\n",
      "Iteration 1, loss = 0.30682385\n",
      "Iteration 2, loss = 0.12595328\n",
      "Iteration 3, loss = 0.08902409\n",
      "Iteration 4, loss = 0.06938852\n",
      "Iteration 5, loss = 0.05620847\n",
      "Iteration 6, loss = 0.04785777\n",
      "Iteration 7, loss = 0.03973063\n",
      "Iteration 8, loss = 0.03356148\n",
      "Iteration 9, loss = 0.02844355\n",
      "Iteration 10, loss = 0.02503001\n",
      "Iteration 11, loss = 0.02192181\n",
      "Iteration 12, loss = 0.01788878\n",
      "Iteration 13, loss = 0.01517539\n",
      "Iteration 14, loss = 0.01304166\n",
      "Iteration 15, loss = 0.01107030\n",
      "Iteration 16, loss = 0.00936810\n",
      "Iteration 17, loss = 0.00754326\n",
      "Iteration 18, loss = 0.00661261\n",
      "Iteration 19, loss = 0.00550325\n",
      "Iteration 20, loss = 0.00493291\n",
      "Iteration 21, loss = 0.00426748\n",
      "Iteration 22, loss = 0.00389386\n",
      "Iteration 23, loss = 0.00340565\n",
      "Iteration 24, loss = 0.00287904\n",
      "Iteration 25, loss = 0.00272057\n",
      "Iteration 26, loss = 0.00256841\n",
      "Iteration 27, loss = 0.00233401\n",
      "Iteration 28, loss = 0.00216807\n",
      "Iteration 29, loss = 0.00207178\n",
      "Iteration 30, loss = 0.00193313\n",
      "Iteration 31, loss = 0.00183402\n",
      "Iteration 32, loss = 0.00177023\n",
      "Iteration 33, loss = 0.00169157\n",
      "Iteration 34, loss = 0.00163802\n",
      "Iteration 35, loss = 0.00155253\n",
      "Iteration 36, loss = 0.00150040\n",
      "Iteration 37, loss = 0.00144313\n",
      "Iteration 38, loss = 0.00140063\n",
      "Iteration 39, loss = 0.00135866\n",
      "Iteration 40, loss = 0.00130977\n",
      "Iteration 41, loss = 0.00128123\n",
      "Training loss did not improve more than tol=0.000100 for 10 consecutive epochs. Stopping.\n",
      "Iteration 1, loss = 0.30682385\n",
      "Iteration 2, loss = 0.12595328\n",
      "Iteration 3, loss = 0.08902409\n",
      "Iteration 4, loss = 0.06938852\n",
      "Iteration 5, loss = 0.05620847\n",
      "Iteration 6, loss = 0.04785777\n",
      "Iteration 7, loss = 0.03973063\n",
      "Iteration 8, loss = 0.03356148\n",
      "Iteration 9, loss = 0.02844355\n",
      "Iteration 10, loss = 0.02503001\n",
      "Iteration 11, loss = 0.02192181\n",
      "Iteration 12, loss = 0.01788878\n",
      "Iteration 13, loss = 0.01517539\n",
      "Iteration 14, loss = 0.01304166\n",
      "Iteration 15, loss = 0.01107030\n",
      "Iteration 16, loss = 0.00936810\n",
      "Iteration 17, loss = 0.00754326\n",
      "Iteration 18, loss = 0.00661261\n",
      "Iteration 19, loss = 0.00550325\n",
      "Iteration 20, loss = 0.00493291\n",
      "Iteration 21, loss = 0.00426748\n",
      "Iteration 22, loss = 0.00389386\n",
      "Iteration 23, loss = 0.00340565\n",
      "Iteration 24, loss = 0.00287904\n",
      "Iteration 25, loss = 0.00272057\n",
      "Iteration 26, loss = 0.00256841\n",
      "Iteration 27, loss = 0.00233401\n",
      "Iteration 28, loss = 0.00216807\n",
      "Iteration 29, loss = 0.00207178\n",
      "Iteration 30, loss = 0.00193313\n",
      "Iteration 31, loss = 0.00183402\n",
      "Iteration 32, loss = 0.00177023\n",
      "Iteration 33, loss = 0.00169157\n",
      "Iteration 34, loss = 0.00163802\n",
      "Iteration 35, loss = 0.00155253\n",
      "Iteration 36, loss = 0.00150040\n",
      "Iteration 37, loss = 0.00144313\n",
      "Iteration 38, loss = 0.00140063\n",
      "Iteration 39, loss = 0.00135866\n",
      "Iteration 40, loss = 0.00130977\n",
      "Iteration 41, loss = 0.00128123\n",
      "Training loss did not improve more than tol=0.000100 for 10 consecutive epochs. Stopping.\n",
      "Iteration 1, loss = 0.30682385\n",
      "Iteration 2, loss = 0.12595328\n",
      "Iteration 3, loss = 0.08902409\n",
      "Iteration 4, loss = 0.06938852\n",
      "Iteration 5, loss = 0.05620847\n",
      "Iteration 6, loss = 0.04785777\n",
      "Iteration 7, loss = 0.03973063\n",
      "Iteration 8, loss = 0.03356148\n",
      "Iteration 9, loss = 0.02844355\n",
      "Iteration 10, loss = 0.02503001\n",
      "Iteration 11, loss = 0.02192181\n",
      "Iteration 12, loss = 0.01788878\n",
      "Iteration 13, loss = 0.01517539\n",
      "Iteration 14, loss = 0.01304166\n",
      "Iteration 15, loss = 0.01107030\n",
      "Iteration 16, loss = 0.00936810\n",
      "Iteration 17, loss = 0.00754326\n",
      "Iteration 18, loss = 0.00661261\n",
      "Iteration 19, loss = 0.00550325\n",
      "Iteration 20, loss = 0.00493291\n",
      "Iteration 21, loss = 0.00426748\n",
      "Iteration 22, loss = 0.00389386\n",
      "Iteration 23, loss = 0.00340565\n",
      "Iteration 24, loss = 0.00287904\n",
      "Iteration 25, loss = 0.00272057\n",
      "Iteration 26, loss = 0.00256841\n",
      "Iteration 27, loss = 0.00233401\n",
      "Iteration 28, loss = 0.00216807\n",
      "Iteration 29, loss = 0.00207178\n",
      "Iteration 30, loss = 0.00193313\n",
      "Iteration 31, loss = 0.00183402\n",
      "Iteration 32, loss = 0.00177023\n",
      "Iteration 33, loss = 0.00169157\n",
      "Iteration 34, loss = 0.00163802\n",
      "Iteration 35, loss = 0.00155253\n",
      "Iteration 36, loss = 0.00150040\n",
      "Iteration 37, loss = 0.00144313\n",
      "Iteration 38, loss = 0.00140063\n",
      "Iteration 39, loss = 0.00135866\n",
      "Iteration 40, loss = 0.00130977\n",
      "Iteration 41, loss = 0.00128123\n",
      "Training loss did not improve more than tol=0.000100 for 10 consecutive epochs. Stopping.\n",
      "Iteration 1, loss = 0.30682385\n",
      "Iteration 2, loss = 0.12595328\n",
      "Iteration 3, loss = 0.08902409\n",
      "Iteration 4, loss = 0.06938852\n",
      "Iteration 5, loss = 0.05620847\n",
      "Iteration 6, loss = 0.04785777\n",
      "Iteration 7, loss = 0.03973063\n",
      "Iteration 8, loss = 0.03356148\n",
      "Iteration 9, loss = 0.02844355\n",
      "Iteration 10, loss = 0.02503001\n",
      "Iteration 11, loss = 0.02192181\n",
      "Iteration 12, loss = 0.01788878\n",
      "Iteration 13, loss = 0.01517539\n",
      "Iteration 14, loss = 0.01304166\n",
      "Iteration 15, loss = 0.01107030\n",
      "Iteration 16, loss = 0.00936810\n",
      "Iteration 17, loss = 0.00754326\n",
      "Iteration 18, loss = 0.00661261\n",
      "Iteration 19, loss = 0.00550325\n",
      "Iteration 20, loss = 0.00493291\n",
      "Iteration 21, loss = 0.00426748\n",
      "Iteration 22, loss = 0.00389386\n",
      "Iteration 23, loss = 0.00340565\n",
      "Iteration 24, loss = 0.00287904\n",
      "Iteration 25, loss = 0.00272057\n",
      "Iteration 26, loss = 0.00256841\n",
      "Iteration 27, loss = 0.00233401\n"
     ]
    },
    {
     "name": "stdout",
     "output_type": "stream",
     "text": [
      "Iteration 28, loss = 0.00216807\n",
      "Iteration 29, loss = 0.00207178\n",
      "Iteration 30, loss = 0.00193313\n",
      "Iteration 31, loss = 0.00183402\n",
      "Iteration 32, loss = 0.00177023\n",
      "Iteration 33, loss = 0.00169157\n",
      "Iteration 34, loss = 0.00163802\n",
      "Iteration 35, loss = 0.00155253\n",
      "Iteration 36, loss = 0.00150040\n",
      "Iteration 37, loss = 0.00144313\n",
      "Iteration 38, loss = 0.00140063\n",
      "Iteration 39, loss = 0.00135866\n",
      "Iteration 40, loss = 0.00130977\n",
      "Iteration 41, loss = 0.00128123\n",
      "Training loss did not improve more than tol=0.000100 for 10 consecutive epochs. Stopping.\n",
      "Iteration 1, loss = 0.30682385\n",
      "Iteration 2, loss = 0.12595328\n",
      "Iteration 3, loss = 0.08902409\n",
      "Iteration 4, loss = 0.06938852\n",
      "Iteration 5, loss = 0.05620847\n",
      "Iteration 6, loss = 0.04785777\n",
      "Iteration 7, loss = 0.03973063\n",
      "Iteration 8, loss = 0.03356148\n",
      "Iteration 9, loss = 0.02844355\n",
      "Iteration 10, loss = 0.02503001\n",
      "Iteration 11, loss = 0.02192181\n",
      "Iteration 12, loss = 0.01788878\n",
      "Iteration 13, loss = 0.01517539\n",
      "Iteration 14, loss = 0.01304166\n",
      "Iteration 15, loss = 0.01107030\n",
      "Iteration 16, loss = 0.00936810\n",
      "Iteration 17, loss = 0.00754326\n",
      "Iteration 18, loss = 0.00661261\n",
      "Iteration 19, loss = 0.00550325\n",
      "Iteration 20, loss = 0.00493291\n",
      "Iteration 21, loss = 0.00426748\n",
      "Iteration 22, loss = 0.00389386\n",
      "Iteration 23, loss = 0.00340565\n",
      "Iteration 24, loss = 0.00287904\n",
      "Iteration 25, loss = 0.00272057\n",
      "Iteration 26, loss = 0.00256841\n",
      "Iteration 27, loss = 0.00233401\n",
      "Iteration 28, loss = 0.00216807\n",
      "Iteration 29, loss = 0.00207178\n",
      "Iteration 30, loss = 0.00193313\n",
      "Iteration 31, loss = 0.00183402\n",
      "Iteration 32, loss = 0.00177023\n",
      "Iteration 33, loss = 0.00169157\n",
      "Iteration 34, loss = 0.00163802\n",
      "Iteration 35, loss = 0.00155253\n",
      "Iteration 36, loss = 0.00150040\n",
      "Iteration 37, loss = 0.00144313\n",
      "Iteration 38, loss = 0.00140063\n",
      "Iteration 39, loss = 0.00135866\n",
      "Iteration 40, loss = 0.00130977\n",
      "Iteration 41, loss = 0.00128123\n",
      "Training loss did not improve more than tol=0.000100 for 10 consecutive epochs. Stopping.\n"
     ]
    },
    {
     "data": {
      "image/png": "[encoded data removed]",
      "text/plain": [
       "<Figure size 432x288 with 1 Axes>"
      ]
     },
     "metadata": {
      "needs_background": "light"
     },
     "output_type": "display_data"
    }
   ],
   "source": [
    "plotNeuronsAccuracy()"
   ]
  },
  {
   "cell_type": "code",
   "execution_count": 118,
   "metadata": {},
   "outputs": [],
   "source": [
    "def plotLayerAccuracy(hidden_layers=10, neurons=10):\n",
    "    training_accuracy = []\n",
    "    test_accuracy = []\n",
    "    hidden_layers_settings = range(10,100,10)\n",
    "    for layer in hidden_layers_settings:\n",
    "        # build the model\n",
    "        mlp = MLPClassifier(hidden_layer_sizes=(layer,layer), max_iter=neurons, alpha=1e-4,\n",
    "                    solver='sgd', verbose=10, tol=1e-4, random_state=1,\n",
    "                    learning_rate_init=.1)\n",
    "        mlp.fit(X_train, y_train)\n",
    "        # Record training set accuracy\n",
    "        curTrainAccuracy = mlp.score(X_train, y_train)\n",
    "        training_accuracy.append(curTrainAccuracy)\n",
    "        # Record test set accuracy\n",
    "        curTestAccuracy = mlp.score(X_test, y_test)\n",
    "        test_accuracy.append(curTestAccuracy)\n",
    "    plt.plot(hidden_layers_settings, training_accuracy, label='Training accuracy')\n",
    "    plt.plot(hidden_layers_settings, test_accuracy, label='Test accuracy')\n",
    "    plt.ylabel('Accuracy')\n",
    "    plt.xlabel('hidden layer sizes')\n",
    "    plt.legend()"
   ]
  },
  {
   "cell_type": "code",
   "execution_count": 119,
   "metadata": {},
   "outputs": [
    {
     "name": "stdout",
     "output_type": "stream",
     "text": [
      "Iteration 1, loss = 0.55239873\n",
      "Iteration 2, loss = 0.29763451\n",
      "Iteration 3, loss = 0.25905111\n",
      "Iteration 4, loss = 0.24407829\n",
      "Iteration 5, loss = 0.23672355\n",
      "Iteration 6, loss = 0.22830722\n",
      "Iteration 7, loss = 0.22526489\n",
      "Iteration 8, loss = 0.22084856\n",
      "Iteration 9, loss = 0.21010208\n",
      "Iteration 10, loss = 0.20330382\n",
      "Iteration 1, loss = 0.39281364\n",
      "Iteration 2, loss = 0.19780638\n",
      "Iteration 3, loss = 0.16562716\n",
      "Iteration 4, loss = 0.14735553\n",
      "Iteration 5, loss = 0.13235842\n",
      "Iteration 6, loss = 0.12833089\n",
      "Iteration 7, loss = 0.12374324\n",
      "Iteration 8, loss = 0.11661686\n",
      "Iteration 9, loss = 0.11233551\n",
      "Iteration 10, loss = 0.10858206\n",
      "Iteration 1, loss = 0.33580994\n",
      "Iteration 2, loss = 0.15692165\n",
      "Iteration 3, loss = 0.12706821\n",
      "Iteration 4, loss = 0.10839721\n",
      "Iteration 5, loss = 0.09793430\n",
      "Iteration 6, loss = 0.09124784\n",
      "Iteration 7, loss = 0.08189440\n",
      "Iteration 8, loss = 0.07784111\n",
      "Iteration 9, loss = 0.07114371\n",
      "Iteration 10, loss = 0.06744845\n",
      "Iteration 1, loss = 0.32858298\n",
      "Iteration 2, loss = 0.13500341\n",
      "Iteration 3, loss = 0.10585661\n",
      "Iteration 4, loss = 0.08804806\n",
      "Iteration 5, loss = 0.07746038\n",
      "Iteration 6, loss = 0.06887978\n",
      "Iteration 7, loss = 0.06379029\n",
      "Iteration 8, loss = 0.05727259\n",
      "Iteration 9, loss = 0.05247455\n",
      "Iteration 10, loss = 0.04672866\n",
      "Iteration 1, loss = 0.32150026\n",
      "Iteration 2, loss = 0.12992097\n",
      "Iteration 3, loss = 0.10086529\n",
      "Iteration 4, loss = 0.08016770\n",
      "Iteration 5, loss = 0.07042060\n",
      "Iteration 6, loss = 0.06033824\n",
      "Iteration 7, loss = 0.05264471\n",
      "Iteration 8, loss = 0.04849412\n",
      "Iteration 9, loss = 0.04225167\n",
      "Iteration 10, loss = 0.03772228\n",
      "Iteration 1, loss = 0.30915349\n",
      "Iteration 2, loss = 0.12718329\n",
      "Iteration 3, loss = 0.09118157\n",
      "Iteration 4, loss = 0.07532251\n",
      "Iteration 5, loss = 0.06157522\n",
      "Iteration 6, loss = 0.05108432\n",
      "Iteration 7, loss = 0.04275012\n",
      "Iteration 8, loss = 0.03930493\n",
      "Iteration 9, loss = 0.03654450\n",
      "Iteration 10, loss = 0.03295884\n",
      "Iteration 1, loss = 0.30627001\n",
      "Iteration 2, loss = 0.12330819\n",
      "Iteration 3, loss = 0.09088167\n",
      "Iteration 4, loss = 0.07183468\n",
      "Iteration 5, loss = 0.05781873\n",
      "Iteration 6, loss = 0.04961508\n",
      "Iteration 7, loss = 0.04115858\n",
      "Iteration 8, loss = 0.03808078\n",
      "Iteration 9, loss = 0.03126697\n",
      "Iteration 10, loss = 0.02690560\n",
      "Iteration 1, loss = 0.29731183\n",
      "Iteration 2, loss = 0.11618040\n",
      "Iteration 3, loss = 0.08338118\n",
      "Iteration 4, loss = 0.06347605\n",
      "Iteration 5, loss = 0.05260252\n",
      "Iteration 6, loss = 0.04330891\n",
      "Iteration 7, loss = 0.03727982\n",
      "Iteration 8, loss = 0.03107342\n",
      "Iteration 9, loss = 0.02705130\n",
      "Iteration 10, loss = 0.02406041\n",
      "Iteration 1, loss = 0.29342353\n",
      "Iteration 2, loss = 0.11128741\n",
      "Iteration 3, loss = 0.07839152\n",
      "Iteration 4, loss = 0.06112708\n",
      "Iteration 5, loss = 0.04785742\n",
      "Iteration 6, loss = 0.04036999\n",
      "Iteration 7, loss = 0.03104410\n",
      "Iteration 8, loss = 0.02546811\n",
      "Iteration 9, loss = 0.02179574\n",
      "Iteration 10, loss = 0.01913040\n"
     ]
    },
    {
     "data": {
      "image/png": "[encoded data removed]",
      "text/plain": [
       "<Figure size 432x288 with 1 Axes>"
      ]
     },
     "metadata": {
      "needs_background": "light"
     },
     "output_type": "display_data"
    }
   ],
   "source": [
    "plotLayerAccuracy()"
   ]
  },
  {
   "cell_type": "markdown",
   "metadata": {},
   "source": [
    "From the plot above, we could see that the optimal hidden layer sizes are 70 and max iter is 20.  \n",
    "So, since we have four features in the first layer and one feature in the output. So, the weights of this model should be:  \n",
    "4*20 + 20*20*(70-1) + 20*1 = 27700  \n",
    "Number of bias is 20*50+1 = 1001  \n",
    "Number of parameter is bias+weights = 28701\n",
    "For each hyperparameter, I use 10 different numbers to do the test."
   ]
  },
  {
   "cell_type": "markdown",
   "metadata": {},
   "source": [
    "From the diagram above, I would like to say that with more hidden layers and more neurons, the model will perform better. Although this is not always true, when the hidden layers and the newrons are not too much, this is true."
   ]
  },
  {
   "cell_type": "markdown",
   "metadata": {},
   "source": [
    "This is easy to understand that with more hidder layers and more neurons, the model will calculate more times and better fit the trainning data. So, if the model is not over fitting, more layer and more neurons will help the model get better performance."
   ]
  },
  {
   "cell_type": "markdown",
   "metadata": {},
   "source": [
    "What's interesting is when the loss didn't reduce a lot, the model will stop iterating automatically. I think it a good way to same the compute resource and maybe a way to avoid the overfitting."
   ]
  },
  {
   "cell_type": "code",
   "execution_count": null,
   "metadata": {},
   "outputs": [],
   "source": []
  }
 ],
 "metadata": {
  "kernelspec": {
   "display_name": "Python 3",
   "language": "python",
   "name": "python3"
  },
  "language_info": {
   "codemirror_mode": {
    "name": "ipython",
    "version": 3
   },
   "file_extension": ".py",
   "mimetype": "text/x-python",
   "name": "python",
   "nbconvert_exporter": "python",
   "pygments_lexer": "ipython3",
   "version": "3.6.8"
  }
 },
 "nbformat": 4,
 "nbformat_minor": 2
}
